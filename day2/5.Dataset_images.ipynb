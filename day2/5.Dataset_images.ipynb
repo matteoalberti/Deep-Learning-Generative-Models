{
 "cells": [
  {
   "cell_type": "code",
   "execution_count": 1,
   "metadata": {},
   "outputs": [
    {
     "data": {
      "text/plain": [
       "[PhysicalDevice(name='/physical_device:CPU:0', device_type='CPU'),\n",
       " PhysicalDevice(name='/physical_device:GPU:0', device_type='GPU'),\n",
       " PhysicalDevice(name='/physical_device:GPU:1', device_type='GPU')]"
      ]
     },
     "execution_count": 1,
     "metadata": {},
     "output_type": "execute_result"
    }
   ],
   "source": [
    "import tensorflow as tf\n",
    "import numpy as np\n",
    "import matplotlib.pyplot as plt\n",
    "import os\n",
    "\n",
    "from model_toy import get_compiled_toy_ResNet\n",
    "\n",
    "root_logs = os.path.join('logs', 'custom')\n",
    "\n",
    "# tf.debugging.set_log_device_placement(True)\n",
    "tf.config.get_visible_devices()"
   ]
  },
  {
   "cell_type": "code",
   "execution_count": 2,
   "metadata": {},
   "outputs": [],
   "source": [
    "def show_img(image, label):\n",
    "    plt.figure()\n",
    "    plt.imshow(image)\n",
    "    plt.title(str(label))\n",
    "    plt.axis('off')"
   ]
  },
  {
   "cell_type": "code",
   "execution_count": 3,
   "metadata": {},
   "outputs": [],
   "source": [
    "from sklearn.model_selection import train_test_split\n",
    "\n",
    "(x_train_full, y_train_full), (x_test, y_test) = tf.keras.datasets.cifar10.load_data()\n",
    "x_train, x_val,  y_train, y_val  = train_test_split(x_train_full, y_train_full, random_state=0)\n",
    "\n",
    "orig_train_ds = tf.data.Dataset.from_tensor_slices((x_train, y_train))\n",
    "orig_val_ds   = tf.data.Dataset.from_tensor_slices((x_val, y_val))"
   ]
  },
  {
   "cell_type": "code",
   "execution_count": 4,
   "metadata": {},
   "outputs": [
    {
     "data": {
      "text/plain": [
       "(50000, 32, 32, 3)"
      ]
     },
     "execution_count": 4,
     "metadata": {},
     "output_type": "execute_result"
    }
   ],
   "source": [
    "x_train_full.shape"
   ]
  },
  {
   "cell_type": "markdown",
   "metadata": {},
   "source": [
    "# Parse and preprocess data"
   ]
  },
  {
   "cell_type": "code",
   "execution_count": 5,
   "metadata": {},
   "outputs": [],
   "source": [
    "def parse_function(image, label):\n",
    "    ## Convert to float values in [0, 1)\n",
    "    image = tf.image.convert_image_dtype(image, tf.float32) \n",
    "    ## Resize (if necessary)\n",
    "    image = tf.image.resize(image, [32, 32])\n",
    "    return image, label"
   ]
  },
  {
   "cell_type": "code",
   "execution_count": 6,
   "metadata": {},
   "outputs": [],
   "source": [
    "_train_ds = orig_train_ds.map(parse_function)\n",
    "_val_ds   = orig_val_ds.map(parse_function)"
   ]
  },
  {
   "cell_type": "code",
   "execution_count": 7,
   "metadata": {},
   "outputs": [
    {
     "data": {
      "image/png": "[encoded data removed]",
      "text/plain": [
       "<Figure size 432x288 with 1 Axes>"
      ]
     },
     "metadata": {
      "needs_background": "light"
     },
     "output_type": "display_data"
    }
   ],
   "source": [
    "image, label = next(iter(_train_ds))\n",
    "show_img(image, label.numpy())"
   ]
  },
  {
   "cell_type": "code",
   "execution_count": 8,
   "metadata": {},
   "outputs": [],
   "source": [
    "import scipy.ndimage as ndimage\n",
    "\n",
    "def random_rotate_image(image):\n",
    "    image = ndimage.rotate(image, np.random.uniform(-15, 15), axes=(-3,-2), reshape=False)\n",
    "    return image\n",
    "\n",
    "def preprocessing(image, label):\n",
    "    image = tf.image.random_flip_left_right(image)\n",
    "\n",
    "    image = tf.image.random_brightness(image, max_delta=32.0 / 255.0)\n",
    "    image = tf.image.random_saturation(image, lower=0.5, upper=1.5)\n",
    "    \n",
    "    ## Computationally heavy preprocessing\n",
    "    image_shape = image.shape\n",
    "    [image,] = tf.py_function(random_rotate_image, [image], [tf.float32])\n",
    "    image.set_shape(image_shape)\n",
    "    image = tf.clip_by_value(image, 0.0, 1.0)\n",
    "\n",
    "    return image, label"
   ]
  },
  {
   "cell_type": "code",
   "execution_count": 9,
   "metadata": {},
   "outputs": [
    {
     "data": {
      "image/png": "[encoded data removed]",
      "text/plain": [
       "<Figure size 432x288 with 1 Axes>"
      ]
     },
     "metadata": {
      "needs_background": "light"
     },
     "output_type": "display_data"
    }
   ],
   "source": [
    "image, label = next(iter(_train_ds))\n",
    "show_img(image, label.numpy())"
   ]
  },
  {
   "cell_type": "code",
   "execution_count": 10,
   "metadata": {},
   "outputs": [
    {
     "data": {
      "image/png": "[encoded data removed]",
      "text/plain": [
       "<Figure size 432x288 with 1 Axes>"
      ]
     },
     "metadata": {
      "needs_background": "light"
     },
     "output_type": "display_data"
    }
   ],
   "source": [
    "image, label = next(iter(_train_ds.batch(2).map(preprocessing)))\n",
    "show_img(image[0], label[0].numpy())"
   ]
  },
  {
   "cell_type": "code",
   "execution_count": 11,
   "metadata": {},
   "outputs": [
    {
     "data": {
      "image/png": "[encoded data removed]",
      "text/plain": [
       "<Figure size 432x288 with 1 Axes>"
      ]
     },
     "metadata": {
      "needs_background": "light"
     },
     "output_type": "display_data"
    }
   ],
   "source": [
    "show_img(image[1], label[1].numpy())"
   ]
  },
  {
   "cell_type": "code",
   "execution_count": 12,
   "metadata": {},
   "outputs": [
    {
     "name": "stdout",
     "output_type": "stream",
     "text": [
      "199 µs ± 1.65 µs per loop (mean ± std. dev. of 7 runs, 1000 loops each)\n"
     ]
    }
   ],
   "source": [
    "tmp_it = iter(_train_ds.repeat().shuffle(2048))\n",
    "%timeit next(tmp_it)"
   ]
  },
  {
   "cell_type": "code",
   "execution_count": 13,
   "metadata": {},
   "outputs": [
    {
     "name": "stdout",
     "output_type": "stream",
     "text": [
      "1.35 ms ± 48.7 µs per loop (mean ± std. dev. of 7 runs, 1 loop each)\n"
     ]
    }
   ],
   "source": [
    "tmp_it = iter(_train_ds.map(preprocessing).repeat().shuffle(2048))\n",
    "%timeit next(tmp_it)"
   ]
  },
  {
   "cell_type": "markdown",
   "metadata": {},
   "source": [
    "# Training"
   ]
  },
  {
   "cell_type": "code",
   "execution_count": 14,
   "metadata": {},
   "outputs": [],
   "source": [
    "batch_size = 128\n",
    "epochs = 10"
   ]
  },
  {
   "cell_type": "code",
   "execution_count": 15,
   "metadata": {},
   "outputs": [
    {
     "name": "stdout",
     "output_type": "stream",
     "text": [
      "Epoch 1/2\n",
      "293/293 [==============================] - 5s 16ms/step - loss: 1.9252 - accuracy: 0.2913 - val_loss: 3.3565 - val_accuracy: 0.1156\n",
      "Epoch 2/2\n",
      "293/293 [==============================] - 4s 15ms/step - loss: 1.4744 - accuracy: 0.4748 - val_loss: 1.4684 - val_accuracy: 0.4838\n"
     ]
    }
   ],
   "source": [
    "model    = get_compiled_toy_ResNet()\n",
    "train_ds = _train_ds.shuffle(2048).batch(batch_size)\n",
    "val_ds   = _val_ds.batch(batch_size)\n",
    "\n",
    "history  = model.fit(train_ds, epochs=2, verbose=1, validation_data=val_ds)"
   ]
  },
  {
   "cell_type": "code",
   "execution_count": 16,
   "metadata": {},
   "outputs": [
    {
     "name": "stdout",
     "output_type": "stream",
     "text": [
      "Epoch 1/2\n",
      "293/293 [==============================] - 45s 152ms/step - loss: 2.0198 - accuracy: 0.2597 - val_loss: 2.9816 - val_accuracy: 0.1041\n",
      "Epoch 2/2\n",
      "293/293 [==============================] - 44s 152ms/step - loss: 1.5771 - accuracy: 0.4321 - val_loss: 1.4157 - val_accuracy: 0.5024\n"
     ]
    }
   ],
   "source": [
    "model    = get_compiled_toy_ResNet()\n",
    "train_ds = _train_ds.shuffle(2048).map(preprocessing).batch(batch_size)\n",
    "val_ds   = _val_ds.batch(batch_size)\n",
    "\n",
    "history  = model.fit(train_ds, epochs=2, verbose=1, validation_data=val_ds)"
   ]
  },
  {
   "cell_type": "code",
   "execution_count": 98,
   "metadata": {},
   "outputs": [
    {
     "name": "stdout",
     "output_type": "stream",
     "text": [
      "Epoch 1/2\n",
      "293/293 [==============================] - 45s 152ms/step - loss: 2.0109 - accuracy: 0.2611 - val_loss: 2.8601 - val_accuracy: 0.1270\n",
      "Epoch 2/2\n",
      "293/293 [==============================] - 43s 148ms/step - loss: 1.5796 - accuracy: 0.4291 - val_loss: 1.3367 - val_accuracy: 0.5169\n"
     ]
    }
   ],
   "source": [
    "model    = get_compiled_toy_ResNet()\n",
    "train_ds = _train_ds.shuffle(2048).cache().map(preprocessing).batch(batch_size)\n",
    "val_ds   = _val_ds.batch(batch_size)\n",
    "\n",
    "history  = model.fit(train_ds, epochs=2, verbose=1, validation_data=val_ds)"
   ]
  },
  {
   "cell_type": "code",
   "execution_count": 17,
   "metadata": {},
   "outputs": [
    {
     "name": "stdout",
     "output_type": "stream",
     "text": [
      "Epoch 1/2\n",
      "293/293 [==============================] - 25s 86ms/step - loss: 2.0093 - accuracy: 0.2613 - val_loss: 2.2516 - val_accuracy: 0.1632\n",
      "Epoch 2/2\n",
      "293/293 [==============================] - 25s 85ms/step - loss: 1.5705 - accuracy: 0.4312 - val_loss: 1.3863 - val_accuracy: 0.5129\n"
     ]
    }
   ],
   "source": [
    "model    = get_compiled_toy_ResNet()\n",
    "train_ds = _train_ds.shuffle(2048).cache().map(preprocessing,\n",
    "                                    num_parallel_calls=tf.data.experimental.AUTOTUNE).batch(batch_size)\n",
    "val_ds   = _val_ds.batch(batch_size)\n",
    "\n",
    "history  = model.fit(train_ds, epochs=2, verbose=1, validation_data=val_ds)"
   ]
  },
  {
   "cell_type": "code",
   "execution_count": null,
   "metadata": {},
   "outputs": [
    {
     "name": "stdout",
     "output_type": "stream",
     "text": [
      "Epoch 1/2\n",
      " 37/293 [==>...........................] - ETA: 7s - loss: 2.4557 - accuracy: 0.1514"
     ]
    }
   ],
   "source": [
    "model    = get_compiled_toy_ResNet()\n",
    "train_ds = _train_ds.shuffle(2048).cache().batch(batch_size).map(preprocessing,\n",
    "                                    num_parallel_calls=tf.data.experimental.AUTOTUNE)\n",
    "val_ds   = _val_ds.batch(batch_size)\n",
    "\n",
    "history  = model.fit(train_ds, epochs=2, verbose=1, validation_data=val_ds)"
   ]
  },
  {
   "cell_type": "code",
   "execution_count": null,
   "metadata": {},
   "outputs": [],
   "source": []
  }
 ],
 "metadata": {
  "kernelspec": {
   "display_name": "Python3 DL",
   "language": "python",
   "name": "dl-env"
  },
  "language_info": {
   "codemirror_mode": {
    "name": "ipython",
    "version": 3
   },
   "file_extension": ".py",
   "mimetype": "text/x-python",
   "name": "python",
   "nbconvert_exporter": "python",
   "pygments_lexer": "ipython3",
   "version": "3.8.2"
  }
 },
 "nbformat": 4,
 "nbformat_minor": 4
}
