{
 "cells": [
  {
   "cell_type": "code",
   "execution_count": 1,
   "metadata": {},
   "outputs": [],
   "source": [
    "import tensorflow as tf\n",
    "from time import perf_counter"
   ]
  },
  {
   "cell_type": "code",
   "execution_count": 2,
   "metadata": {},
   "outputs": [
    {
     "data": {
      "text/plain": [
       "[PhysicalDevice(name='/physical_device:CPU:0', device_type='CPU'),\n",
       " PhysicalDevice(name='/physical_device:GPU:0', device_type='GPU'),\n",
       " PhysicalDevice(name='/physical_device:GPU:1', device_type='GPU'),\n",
       " PhysicalDevice(name='/physical_device:GPU:2', device_type='GPU'),\n",
       " PhysicalDevice(name='/physical_device:GPU:3', device_type='GPU')]"
      ]
     },
     "execution_count": 2,
     "metadata": {},
     "output_type": "execute_result"
    }
   ],
   "source": [
    "tf.config.experimental.get_visible_devices()"
   ]
  },
  {
   "cell_type": "code",
   "execution_count": 3,
   "metadata": {},
   "outputs": [
    {
     "data": {
      "text/plain": [
       "[PhysicalDevice(name='/physical_device:GPU:0', device_type='GPU'),\n",
       " PhysicalDevice(name='/physical_device:GPU:1', device_type='GPU')]"
      ]
     },
     "execution_count": 3,
     "metadata": {},
     "output_type": "execute_result"
    }
   ],
   "source": [
    "physical_devices = tf.config.get_visible_devices('GPU')\n",
    "tf.config.set_visible_devices(physical_devices[:2], 'GPU')\n",
    "tf.config.get_visible_devices('GPU')"
   ]
  },
  {
   "cell_type": "code",
   "execution_count": 4,
   "metadata": {},
   "outputs": [],
   "source": [
    "tf.debugging.set_log_device_placement(True)"
   ]
  },
  {
   "cell_type": "code",
   "execution_count": 5,
   "metadata": {},
   "outputs": [
    {
     "name": "stdout",
     "output_type": "stream",
     "text": [
      "Executing op RandomUniform in device /job:localhost/replica:0/task:0/device:GPU:0\n",
      "Executing op MatMul in device /job:localhost/replica:0/task:0/device:GPU:0\n"
     ]
    }
   ],
   "source": [
    "# Create some tensors\n",
    "a = tf.random.uniform([1000, 1000])\n",
    "b = tf.random.uniform([1000, 1000])\n",
    "c = tf.matmul(a, b)"
   ]
  },
  {
   "cell_type": "code",
   "execution_count": 6,
   "metadata": {},
   "outputs": [
    {
     "name": "stdout",
     "output_type": "stream",
     "text": [
      "Elapsed: 3.169 ms\n",
      "/job:localhost/replica:0/task:0/device:GPU:0\n",
      "/job:localhost/replica:0/task:0/device:GPU:0\n",
      "/job:localhost/replica:0/task:0/device:GPU:0\n"
     ]
    }
   ],
   "source": [
    "iterations = 10\n",
    "start = perf_counter()\n",
    "for _ in range(iterations):\n",
    "    a = tf.random.uniform([1000, 1000])\n",
    "    b = tf.random.uniform([1000, 1000])\n",
    "    c = tf.matmul(a, b)\n",
    "print(\"Elapsed: %.3f ms\"%((perf_counter()-start)*1000) )\n",
    "print(a.device)\n",
    "print(b.device)\n",
    "print(c.device)"
   ]
  },
  {
   "cell_type": "code",
   "execution_count": 7,
   "metadata": {},
   "outputs": [
    {
     "name": "stdout",
     "output_type": "stream",
     "text": [
      "Executing op RandomUniform in device /job:localhost/replica:0/task:0/device:CPU:0\n",
      "Executing op MatMul in device /job:localhost/replica:0/task:0/device:CPU:0\n",
      "Elapsed: 71.700 ms\n",
      "/job:localhost/replica:0/task:0/device:CPU:0\n",
      "/job:localhost/replica:0/task:0/device:CPU:0\n",
      "/job:localhost/replica:0/task:0/device:CPU:0\n"
     ]
    }
   ],
   "source": [
    "iterations = 10\n",
    "start = perf_counter()\n",
    "for _ in range(iterations):\n",
    "    with tf.device(\"CPU:0\"):\n",
    "        a = tf.random.uniform([1000, 1000])\n",
    "        b = tf.random.uniform([1000, 1000])\n",
    "        c = tf.matmul(a, b)\n",
    "print(\"Elapsed: %.3f ms\"%((perf_counter()-start)*1000) )\n",
    "print(a.device)\n",
    "print(b.device)\n",
    "print(c.device)"
   ]
  },
  {
   "cell_type": "code",
   "execution_count": 8,
   "metadata": {},
   "outputs": [
    {
     "name": "stdout",
     "output_type": "stream",
     "text": [
      "Executing op RandomUniform in device /job:localhost/replica:0/task:0/device:GPU:1\n",
      "Elapsed: 460.615 ms\n",
      "/job:localhost/replica:0/task:0/device:CPU:0\n",
      "/job:localhost/replica:0/task:0/device:GPU:1\n",
      "/job:localhost/replica:0/task:0/device:GPU:0\n"
     ]
    }
   ],
   "source": [
    "iterations = 10\n",
    "start = perf_counter()\n",
    "for _ in range(iterations):\n",
    "    with tf.device(\"CPU:0\"):\n",
    "        a = tf.random.uniform([1000, 1000])\n",
    "    with tf.device(\"GPU:1\"):\n",
    "        b = tf.random.uniform([1000, 1000])\n",
    "    c = tf.matmul(a, b)\n",
    "print(\"Elapsed: %.3f ms\"%((perf_counter()-start)*1000) )    \n",
    "print(a.device)\n",
    "print(b.device)\n",
    "print(c.device)"
   ]
  },
  {
   "cell_type": "code",
   "execution_count": 9,
   "metadata": {},
   "outputs": [
    {
     "name": "stdout",
     "output_type": "stream",
     "text": [
      "Elapsed: 30.646 ms\n",
      "/job:localhost/replica:0/task:0/device:CPU:0\n",
      "/job:localhost/replica:0/task:0/device:CPU:0\n",
      "/job:localhost/replica:0/task:0/device:GPU:0\n"
     ]
    }
   ],
   "source": [
    "iterations = 10\n",
    "start = perf_counter()\n",
    "for _ in range(iterations):\n",
    "    with tf.device(\"CPU:0\"):\n",
    "        a = tf.random.uniform([1000, 1000])\n",
    "        b = tf.random.uniform([1000, 1000])\n",
    "    c = tf.matmul(a, b)\n",
    "print(\"Elapsed: %.3f ms\"%((perf_counter()-start)*1000) )\n",
    "print(a.device)\n",
    "print(b.device)\n",
    "print(c.device)"
   ]
  },
  {
   "cell_type": "code",
   "execution_count": null,
   "metadata": {},
   "outputs": [],
   "source": []
  }
 ],
 "metadata": {
  "kernelspec": {
   "display_name": "Python3 DL",
   "language": "python",
   "name": "dl-env"
  },
  "language_info": {
   "codemirror_mode": {
    "name": "ipython",
    "version": 3
   },
   "file_extension": ".py",
   "mimetype": "text/x-python",
   "name": "python",
   "nbconvert_exporter": "python",
   "pygments_lexer": "ipython3",
   "version": "3.8.2"
  }
 },
 "nbformat": 4,
 "nbformat_minor": 2
}
