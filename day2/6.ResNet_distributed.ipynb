{
 "cells": [
  {
   "cell_type": "code",
   "execution_count": 1,
   "metadata": {},
   "outputs": [
    {
     "data": {
      "text/plain": [
       "[PhysicalDevice(name='/physical_device:GPU:0', device_type='GPU'),\n",
       " PhysicalDevice(name='/physical_device:GPU:1', device_type='GPU')]"
      ]
     },
     "execution_count": 1,
     "metadata": {},
     "output_type": "execute_result"
    }
   ],
   "source": [
    "import tensorflow as tf\n",
    "import numpy as np\n",
    "import matplotlib.pyplot as plt\n",
    "import os\n",
    "from time import perf_counter\n",
    "from model_toy import get_toy_ResNet\n",
    "\n",
    "root_logs = os.path.join('logs', 'custom')\n",
    "\n",
    "# tf.debugging.set_log_device_placement(True)\n",
    "physical_devices = tf.config.get_visible_devices('GPU')\n",
    "tf.config.set_visible_devices(physical_devices[:2], 'GPU')\n",
    "tf.config.get_visible_devices('GPU')"
   ]
  },
  {
   "cell_type": "code",
   "execution_count": 2,
   "metadata": {},
   "outputs": [],
   "source": [
    "from sklearn.model_selection import train_test_split\n",
    "(x_train_full, y_train_full), (x_test, y_test) = tf.keras.datasets.cifar10.load_data()\n",
    "x_train_full, x_test = np.float32(x_train_full/255.), np.float32(x_test/255.)\n",
    "x_train, x_val,  y_train, y_val  = train_test_split(x_train_full, y_train_full)"
   ]
  },
  {
   "cell_type": "markdown",
   "metadata": {},
   "source": [
    "# Training"
   ]
  },
  {
   "cell_type": "code",
   "execution_count": 3,
   "metadata": {},
   "outputs": [],
   "source": [
    "batch_size = 1024\n",
    "epochs = 10\n",
    "\n",
    "train_ds = tf.data.Dataset.from_tensor_slices((x_train, y_train)).shuffle(2048).batch(batch_size)\n",
    "val_ds   = tf.data.Dataset.from_tensor_slices((x_val, y_val)).shuffle(2048).batch(32)"
   ]
  },
  {
   "cell_type": "markdown",
   "metadata": {},
   "source": [
    "## Keras built-in methods\n",
    "First let's check with a single device"
   ]
  },
  {
   "cell_type": "code",
   "execution_count": 4,
   "metadata": {},
   "outputs": [],
   "source": [
    "toy_res = get_toy_ResNet()\n",
    "toy_res.compile(loss='sparse_categorical_crossentropy',\n",
    "              optimizer=\"RMSProp\",\n",
    "              metrics=[\"accuracy\"])"
   ]
  },
  {
   "cell_type": "code",
   "execution_count": 5,
   "metadata": {},
   "outputs": [
    {
     "name": "stdout",
     "output_type": "stream",
     "text": [
      "Epoch 1/10\n",
      "37/37 [==============================] - 2s 62ms/step - loss: 2.1943 - accuracy: 0.2038 - val_loss: 2.2791 - val_accuracy: 0.1351\n",
      "Epoch 2/10\n",
      "37/37 [==============================] - 2s 49ms/step - loss: 1.8326 - accuracy: 0.3208 - val_loss: 2.5008 - val_accuracy: 0.0966\n",
      "Epoch 3/10\n",
      "37/37 [==============================] - 2s 49ms/step - loss: 1.6424 - accuracy: 0.4010 - val_loss: 2.3998 - val_accuracy: 0.1370\n",
      "Epoch 4/10\n",
      "37/37 [==============================] - 2s 49ms/step - loss: 1.5125 - accuracy: 0.4584 - val_loss: 2.9566 - val_accuracy: 0.1019\n",
      "Epoch 5/10\n",
      "37/37 [==============================] - 2s 49ms/step - loss: 1.3984 - accuracy: 0.5059 - val_loss: 3.5355 - val_accuracy: 0.1010\n",
      "Epoch 6/10\n",
      "37/37 [==============================] - 2s 49ms/step - loss: 1.2997 - accuracy: 0.5412 - val_loss: 3.6428 - val_accuracy: 0.1036\n",
      "Epoch 7/10\n",
      "37/37 [==============================] - 2s 49ms/step - loss: 1.2236 - accuracy: 0.5735 - val_loss: 3.5402 - val_accuracy: 0.1200\n",
      "Epoch 8/10\n",
      "37/37 [==============================] - 2s 49ms/step - loss: 1.1563 - accuracy: 0.6016 - val_loss: 3.3962 - val_accuracy: 0.1278\n",
      "Epoch 9/10\n",
      "37/37 [==============================] - 2s 49ms/step - loss: 1.0941 - accuracy: 0.6234 - val_loss: 2.8164 - val_accuracy: 0.1546\n",
      "Epoch 10/10\n",
      "37/37 [==============================] - 2s 48ms/step - loss: 1.0466 - accuracy: 0.6406 - val_loss: 2.5266 - val_accuracy: 0.2154\n"
     ]
    }
   ],
   "source": [
    "history = toy_res.fit(train_ds, batch_size=batch_size, epochs=epochs, verbose=1,\n",
    "                      validation_data=(x_val, y_val))"
   ]
  },
  {
   "cell_type": "markdown",
   "metadata": {},
   "source": [
    "Now with all the devices available."
   ]
  },
  {
   "cell_type": "code",
   "execution_count": 6,
   "metadata": {},
   "outputs": [
    {
     "name": "stdout",
     "output_type": "stream",
     "text": [
      "WARNING:tensorflow:NCCL is not supported when using virtual GPUs, fallingback to reduction to one device\n",
      "INFO:tensorflow:Using MirroredStrategy with devices ('/job:localhost/replica:0/task:0/device:GPU:0', '/job:localhost/replica:0/task:0/device:GPU:1')\n",
      "Epoch 1/10\n",
      "INFO:tensorflow:Reduce to /job:localhost/replica:0/task:0/device:GPU:0 then broadcast to ('/job:localhost/replica:0/task:0/device:GPU:0', '/job:localhost/replica:0/task:0/device:GPU:1').\n",
      "INFO:tensorflow:Reduce to /job:localhost/replica:0/task:0/device:GPU:0 then broadcast to ('/job:localhost/replica:0/task:0/device:GPU:0', '/job:localhost/replica:0/task:0/device:GPU:1').\n",
      "INFO:tensorflow:Reduce to /job:localhost/replica:0/task:0/device:GPU:0 then broadcast to ('/job:localhost/replica:0/task:0/device:GPU:0', '/job:localhost/replica:0/task:0/device:GPU:1').\n",
      "INFO:tensorflow:Reduce to /job:localhost/replica:0/task:0/device:GPU:0 then broadcast to ('/job:localhost/replica:0/task:0/device:GPU:0', '/job:localhost/replica:0/task:0/device:GPU:1').\n",
      "INFO:tensorflow:Reduce to /job:localhost/replica:0/task:0/device:GPU:0 then broadcast to ('/job:localhost/replica:0/task:0/device:GPU:0', '/job:localhost/replica:0/task:0/device:GPU:1').\n",
      "INFO:tensorflow:Reduce to /job:localhost/replica:0/task:0/device:GPU:0 then broadcast to ('/job:localhost/replica:0/task:0/device:GPU:0', '/job:localhost/replica:0/task:0/device:GPU:1').\n",
      "INFO:tensorflow:Reduce to /job:localhost/replica:0/task:0/device:GPU:0 then broadcast to ('/job:localhost/replica:0/task:0/device:GPU:0', '/job:localhost/replica:0/task:0/device:GPU:1').\n",
      "INFO:tensorflow:Reduce to /job:localhost/replica:0/task:0/device:GPU:0 then broadcast to ('/job:localhost/replica:0/task:0/device:GPU:0', '/job:localhost/replica:0/task:0/device:GPU:1').\n",
      "INFO:tensorflow:Reduce to /job:localhost/replica:0/task:0/device:GPU:0 then broadcast to ('/job:localhost/replica:0/task:0/device:GPU:0', '/job:localhost/replica:0/task:0/device:GPU:1').\n",
      "INFO:tensorflow:Reduce to /job:localhost/replica:0/task:0/device:GPU:0 then broadcast to ('/job:localhost/replica:0/task:0/device:GPU:0', '/job:localhost/replica:0/task:0/device:GPU:1').\n",
      "INFO:tensorflow:Reduce to /job:localhost/replica:0/task:0/device:CPU:0 then broadcast to ('/job:localhost/replica:0/task:0/device:CPU:0',).\n",
      "INFO:tensorflow:Reduce to /job:localhost/replica:0/task:0/device:CPU:0 then broadcast to ('/job:localhost/replica:0/task:0/device:CPU:0',).\n",
      "INFO:tensorflow:Reduce to /job:localhost/replica:0/task:0/device:CPU:0 then broadcast to ('/job:localhost/replica:0/task:0/device:CPU:0',).\n",
      "INFO:tensorflow:Reduce to /job:localhost/replica:0/task:0/device:CPU:0 then broadcast to ('/job:localhost/replica:0/task:0/device:CPU:0',).\n",
      "INFO:tensorflow:Reduce to /job:localhost/replica:0/task:0/device:CPU:0 then broadcast to ('/job:localhost/replica:0/task:0/device:CPU:0',).\n",
      "INFO:tensorflow:Reduce to /job:localhost/replica:0/task:0/device:CPU:0 then broadcast to ('/job:localhost/replica:0/task:0/device:CPU:0',).\n",
      "INFO:tensorflow:Reduce to /job:localhost/replica:0/task:0/device:CPU:0 then broadcast to ('/job:localhost/replica:0/task:0/device:CPU:0',).\n",
      "INFO:tensorflow:Reduce to /job:localhost/replica:0/task:0/device:CPU:0 then broadcast to ('/job:localhost/replica:0/task:0/device:CPU:0',).\n",
      "37/37 [==============================] - ETA: 0s - accuracy: 0.2062 - loss: 2.1859INFO:tensorflow:Reduce to /job:localhost/replica:0/task:0/device:CPU:0 then broadcast to ('/job:localhost/replica:0/task:0/device:CPU:0',).\n",
      "INFO:tensorflow:Reduce to /job:localhost/replica:0/task:0/device:CPU:0 then broadcast to ('/job:localhost/replica:0/task:0/device:CPU:0',).\n",
      "37/37 [==============================] - 3s 81ms/step - accuracy: 0.2062 - loss: 2.1859 - val_accuracy: 0.1166 - val_loss: 2.3000\n",
      "Epoch 2/10\n",
      "37/37 [==============================] - 1s 36ms/step - accuracy: 0.3261 - loss: 1.8473 - val_accuracy: 0.1507 - val_loss: 2.3684\n",
      "Epoch 3/10\n",
      "37/37 [==============================] - 1s 37ms/step - accuracy: 0.4062 - loss: 1.6486 - val_accuracy: 0.0984 - val_loss: 2.5587\n",
      "Epoch 4/10\n",
      "37/37 [==============================] - 1s 36ms/step - accuracy: 0.4676 - loss: 1.4904 - val_accuracy: 0.0962 - val_loss: 2.8373\n",
      "Epoch 5/10\n",
      "37/37 [==============================] - 1s 37ms/step - accuracy: 0.5162 - loss: 1.3800 - val_accuracy: 0.0962 - val_loss: 3.2346\n",
      "Epoch 6/10\n",
      "37/37 [==============================] - 1s 37ms/step - accuracy: 0.5578 - loss: 1.2743 - val_accuracy: 0.0962 - val_loss: 3.4333\n",
      "Epoch 7/10\n",
      "37/37 [==============================] - 1s 36ms/step - accuracy: 0.5906 - loss: 1.1942 - val_accuracy: 0.0975 - val_loss: 3.2253\n",
      "Epoch 8/10\n",
      "37/37 [==============================] - 1s 37ms/step - accuracy: 0.6127 - loss: 1.1388 - val_accuracy: 0.1032 - val_loss: 3.2206\n",
      "Epoch 9/10\n",
      "37/37 [==============================] - 1s 37ms/step - accuracy: 0.6361 - loss: 1.0715 - val_accuracy: 0.1229 - val_loss: 2.9052\n",
      "Epoch 10/10\n",
      "37/37 [==============================] - 1s 36ms/step - accuracy: 0.6540 - loss: 1.0273 - val_accuracy: 0.1810 - val_loss: 3.3353\n"
     ]
    }
   ],
   "source": [
    "mirrored_strategy = tf.distribute.MirroredStrategy()\n",
    "\n",
    "with mirrored_strategy.scope():\n",
    "    dist_res = get_toy_ResNet()\n",
    "    dist_res.compile(loss='sparse_categorical_crossentropy',\n",
    "                     optimizer=\"RMSProp\",\n",
    "                     metrics=[\"accuracy\"])\n",
    "    \n",
    "history = dist_res.fit(x=x_train, y=y_train, batch_size=batch_size, epochs=epochs, verbose=1,\n",
    "                      validation_data=(x_val, y_val))"
   ]
  },
  {
   "cell_type": "markdown",
   "metadata": {},
   "source": [
    "# Custom training"
   ]
  },
  {
   "cell_type": "code",
   "execution_count": 7,
   "metadata": {},
   "outputs": [
    {
     "name": "stdout",
     "output_type": "stream",
     "text": [
      "WARNING:tensorflow:NCCL is not supported when using virtual GPUs, fallingback to reduction to one device\n",
      "INFO:tensorflow:Using MirroredStrategy with devices ('/job:localhost/replica:0/task:0/device:GPU:0', '/job:localhost/replica:0/task:0/device:GPU:1')\n"
     ]
    }
   ],
   "source": [
    "mirrored_strategy = tf.distribute.MirroredStrategy()\n",
    "\n",
    "# Model definition - as before\n",
    "with mirrored_strategy.scope():\n",
    "    dist_res = get_toy_ResNet()\n",
    "    optimizer = tf.keras.optimizers.RMSprop()\n",
    "\n",
    "# Change to distributed dataset\n",
    "dist_train_ds = mirrored_strategy.experimental_distribute_dataset(train_ds)\n",
    "\n",
    "@tf.function\n",
    "def train_step(x_dist, y_dist):\n",
    "    def step_fn(x_batch, y_batch):\n",
    "        with tf.GradientTape() as tape:\n",
    "            y_pred = dist_res(x_batch, training=True)\n",
    "            cross_entropy = tf.keras.losses.sparse_categorical_crossentropy(\n",
    "                y_true=y_batch, y_pred=y_pred)\n",
    "            loss = tf.reduce_sum(cross_entropy) * (1.0 / batch_size)\n",
    "        \n",
    "        grads = tape.gradient(loss, dist_res.trainable_variables)\n",
    "        optimizer.apply_gradients(list(zip(grads, dist_res.trainable_variables)))\n",
    "        return cross_entropy\n",
    "    # Run the step_fn in parallel\n",
    "    per_example_losses = mirrored_strategy.run(step_fn, args=(x_dist, y_dist))\n",
    "    # AllReduce\n",
    "    mean_loss = mirrored_strategy.reduce(\n",
    "        tf.distribute.ReduceOp.MEAN, per_example_losses, axis=0)\n",
    "    return mean_loss"
   ]
  },
  {
   "cell_type": "code",
   "execution_count": 8,
   "metadata": {},
   "outputs": [
    {
     "name": "stdout",
     "output_type": "stream",
     "text": [
      "Epoch 0/10. 11.515s\tLast batch loss: 2.018\t Mean batch loss: 2.190\n",
      "Epoch 1/10. 1.214s\tLast batch loss: 1.695\t Mean batch loss: 1.848\n",
      "Epoch 2/10. 1.212s\tLast batch loss: 1.565\t Mean batch loss: 1.642\n",
      "Epoch 3/10. 1.223s\tLast batch loss: 1.402\t Mean batch loss: 1.504\n",
      "Epoch 4/10. 1.197s\tLast batch loss: 1.366\t Mean batch loss: 1.380\n",
      "Epoch 5/10. 1.192s\tLast batch loss: 1.265\t Mean batch loss: 1.284\n",
      "Epoch 6/10. 1.217s\tLast batch loss: 1.162\t Mean batch loss: 1.200\n",
      "Epoch 7/10. 1.182s\tLast batch loss: 1.089\t Mean batch loss: 1.136\n",
      "Epoch 8/10. 1.193s\tLast batch loss: 1.057\t Mean batch loss: 1.091\n",
      "Epoch 9/10. 1.184s\tLast batch loss: 1.041\t Mean batch loss: 1.036\n"
     ]
    }
   ],
   "source": [
    "with mirrored_strategy.scope():\n",
    "    for epoch in range(epochs):\n",
    "        start = perf_counter()\n",
    "        batch_losses = []\n",
    "        for x_dits_batch, y_dits_batch in dist_train_ds:\n",
    "            batch_loss = train_step(x_dits_batch, y_dits_batch)\n",
    "            batch_losses.append(batch_loss.numpy())\n",
    "            \n",
    "        print(\"Epoch %d/%d. %.3fs\\tLast batch loss: %.3f\\t Mean batch loss: %.3f\"%\n",
    "                  (epoch, epochs, perf_counter()-start, batch_losses[-1], np.mean(batch_losses)))"
   ]
  },
  {
   "cell_type": "markdown",
   "metadata": {},
   "source": [
    "# AllReduce ops\n",
    "\n",
    "You can change AllReduce algorithm used setting `cross_device_ops` to:\n",
    "- `tf.distribute.NcclAllReduce` (the default one)\n",
    "- `tf.distribute.HierarchicalCopyAllReduce`\n",
    "- `tf.distribute.ReductionToOneDevice` "
   ]
  },
  {
   "cell_type": "code",
   "execution_count": 12,
   "metadata": {},
   "outputs": [
    {
     "name": "stdout",
     "output_type": "stream",
     "text": [
      "INFO:tensorflow:Using MirroredStrategy with devices ('/job:localhost/replica:0/task:0/device:GPU:0', '/job:localhost/replica:0/task:0/device:GPU:1')\n",
      "Epoch 1/10\n",
      "INFO:tensorflow:batch_all_reduce: 27 all-reduces with algorithm = hierarchical_copy, num_packs = 1\n",
      "INFO:tensorflow:batch_all_reduce: 27 all-reduces with algorithm = hierarchical_copy, num_packs = 1\n",
      "37/37 [==============================] - 3s 77ms/step - accuracy: 0.2047 - loss: 2.1924 - val_accuracy: 0.1109 - val_loss: 2.3434\n",
      "Epoch 2/10\n",
      "37/37 [==============================] - 1s 36ms/step - accuracy: 0.3138 - loss: 1.8562 - val_accuracy: 0.1037 - val_loss: 2.5385\n",
      "Epoch 3/10\n",
      "37/37 [==============================] - 1s 36ms/step - accuracy: 0.4030 - loss: 1.6450 - val_accuracy: 0.1003 - val_loss: 2.6368\n",
      "Epoch 4/10\n",
      "37/37 [==============================] - 1s 36ms/step - accuracy: 0.4737 - loss: 1.4778 - val_accuracy: 0.0998 - val_loss: 3.5133\n",
      "Epoch 5/10\n",
      "37/37 [==============================] - 1s 36ms/step - accuracy: 0.5311 - loss: 1.3491 - val_accuracy: 0.0997 - val_loss: 3.0425\n",
      "Epoch 6/10\n",
      "37/37 [==============================] - 1s 36ms/step - accuracy: 0.5715 - loss: 1.2420 - val_accuracy: 0.1490 - val_loss: 2.4509\n",
      "Epoch 7/10\n",
      "37/37 [==============================] - 1s 36ms/step - accuracy: 0.6040 - loss: 1.1643 - val_accuracy: 0.1058 - val_loss: 2.6259\n",
      "Epoch 8/10\n",
      "37/37 [==============================] - 1s 36ms/step - accuracy: 0.6299 - loss: 1.0880 - val_accuracy: 0.1185 - val_loss: 2.3439\n",
      "Epoch 9/10\n",
      "37/37 [==============================] - 1s 36ms/step - accuracy: 0.6557 - loss: 1.0290 - val_accuracy: 0.1670 - val_loss: 2.3342\n",
      "Epoch 10/10\n",
      "37/37 [==============================] - 1s 36ms/step - accuracy: 0.6768 - loss: 0.9583 - val_accuracy: 0.1413 - val_loss: 2.4241\n"
     ]
    }
   ],
   "source": [
    "mirrored_strategy = tf.distribute.MirroredStrategy(cross_device_ops=tf.distribute.HierarchicalCopyAllReduce())\n",
    "\n",
    "with mirrored_strategy.scope():\n",
    "    dist_res = get_toy_ResNet()\n",
    "    dist_res.compile(loss='sparse_categorical_crossentropy',\n",
    "                     optimizer=\"RMSProp\",\n",
    "                     metrics=[\"accuracy\"])\n",
    "    \n",
    "history = dist_res.fit(x=x_train, y=y_train, batch_size=batch_size, epochs=epochs, verbose=1,\n",
    "                      validation_data=(x_val, y_val))"
   ]
  },
  {
   "cell_type": "code",
   "execution_count": 13,
   "metadata": {},
   "outputs": [
    {
     "name": "stdout",
     "output_type": "stream",
     "text": [
      "INFO:tensorflow:Using MirroredStrategy with devices ('/job:localhost/replica:0/task:0/device:GPU:0', '/job:localhost/replica:0/task:0/device:GPU:1')\n",
      "Epoch 1/10\n",
      "INFO:tensorflow:Reduce to /job:localhost/replica:0/task:0/device:GPU:0 then broadcast to ('/job:localhost/replica:0/task:0/device:GPU:0', '/job:localhost/replica:0/task:0/device:GPU:1').\n",
      "INFO:tensorflow:Reduce to /job:localhost/replica:0/task:0/device:GPU:0 then broadcast to ('/job:localhost/replica:0/task:0/device:GPU:0', '/job:localhost/replica:0/task:0/device:GPU:1').\n",
      "INFO:tensorflow:Reduce to /job:localhost/replica:0/task:0/device:GPU:0 then broadcast to ('/job:localhost/replica:0/task:0/device:GPU:0', '/job:localhost/replica:0/task:0/device:GPU:1').\n",
      "37/37 [==============================] - 3s 78ms/step - accuracy: 0.2081 - loss: 2.1794 - val_accuracy: 0.1061 - val_loss: 2.3229\n",
      "Epoch 2/10\n",
      "37/37 [==============================] - 1s 37ms/step - accuracy: 0.3210 - loss: 1.8352 - val_accuracy: 0.1080 - val_loss: 2.4586\n",
      "Epoch 3/10\n",
      "37/37 [==============================] - 1s 37ms/step - accuracy: 0.3958 - loss: 1.6424 - val_accuracy: 0.1037 - val_loss: 2.6941\n",
      "Epoch 4/10\n",
      "37/37 [==============================] - 1s 37ms/step - accuracy: 0.4547 - loss: 1.5043 - val_accuracy: 0.1037 - val_loss: 3.2210\n",
      "Epoch 5/10\n",
      "37/37 [==============================] - 1s 37ms/step - accuracy: 0.5037 - loss: 1.3801 - val_accuracy: 0.1037 - val_loss: 3.1869\n",
      "Epoch 6/10\n",
      "37/37 [==============================] - 1s 37ms/step - accuracy: 0.5481 - loss: 1.2789 - val_accuracy: 0.1037 - val_loss: 2.8917\n",
      "Epoch 7/10\n",
      "37/37 [==============================] - 1s 36ms/step - accuracy: 0.5822 - loss: 1.1980 - val_accuracy: 0.1083 - val_loss: 3.5565\n",
      "Epoch 8/10\n",
      "37/37 [==============================] - 1s 37ms/step - accuracy: 0.6137 - loss: 1.1243 - val_accuracy: 0.1416 - val_loss: 3.3568\n",
      "Epoch 9/10\n",
      "37/37 [==============================] - 1s 37ms/step - accuracy: 0.6385 - loss: 1.0526 - val_accuracy: 0.1130 - val_loss: 2.6912\n",
      "Epoch 10/10\n",
      "37/37 [==============================] - 1s 37ms/step - accuracy: 0.6625 - loss: 0.9882 - val_accuracy: 0.1380 - val_loss: 3.7626\n"
     ]
    }
   ],
   "source": [
    "mirrored_strategy = tf.distribute.MirroredStrategy(cross_device_ops=tf.distribute.ReductionToOneDevice())\n",
    "\n",
    "with mirrored_strategy.scope():\n",
    "    dist_res = get_toy_ResNet()\n",
    "    dist_res.compile(loss='sparse_categorical_crossentropy',\n",
    "                     optimizer=\"RMSProp\",\n",
    "                     metrics=[\"accuracy\"])\n",
    "    \n",
    "history = dist_res.fit(x=x_train, y=y_train, batch_size=batch_size, epochs=epochs, verbose=1,\n",
    "                      validation_data=(x_val, y_val))"
   ]
  },
  {
   "cell_type": "code",
   "execution_count": null,
   "metadata": {},
   "outputs": [],
   "source": []
  }
 ],
 "metadata": {
  "kernelspec": {
   "display_name": "Python 3",
   "language": "python",
   "name": "python3"
  },
  "language_info": {
   "codemirror_mode": {
    "name": "ipython",
    "version": 3
   },
   "file_extension": ".py",
   "mimetype": "text/x-python",
   "name": "python",
   "nbconvert_exporter": "python",
   "pygments_lexer": "ipython3",
   "version": "3.6.8"
  }
 },
 "nbformat": 4,
 "nbformat_minor": 4
}
