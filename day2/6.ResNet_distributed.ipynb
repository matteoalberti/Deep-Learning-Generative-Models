{
 "cells": [
  {
   "cell_type": "code",
   "execution_count": 10,
   "metadata": {},
   "outputs": [
    {
     "data": {
      "text/plain": [
       "[PhysicalDevice(name='/physical_device:CPU:0', device_type='CPU'),\n",
       " PhysicalDevice(name='/physical_device:GPU:0', device_type='GPU'),\n",
       " PhysicalDevice(name='/physical_device:GPU:1', device_type='GPU')]"
      ]
     },
     "execution_count": 10,
     "metadata": {},
     "output_type": "execute_result"
    }
   ],
   "source": [
    "import tensorflow as tf\n",
    "import numpy as np\n",
    "import matplotlib.pyplot as plt\n",
    "import os\n",
    "from time import perf_counter\n",
    "from model_toy import get_toy_ResNet\n",
    "\n",
    "root_logs = os.path.join('logs', 'custom')\n",
    "\n",
    "# tf.debugging.set_log_device_placement(True)\n",
    "tf.config.get_visible_devices()"
   ]
  },
  {
   "cell_type": "code",
   "execution_count": 2,
   "metadata": {},
   "outputs": [],
   "source": [
    "from sklearn.model_selection import train_test_split\n",
    "(x_train_full, y_train_full), (x_test, y_test) = tf.keras.datasets.cifar10.load_data()\n",
    "x_train_full, x_test = np.float32(x_train_full/255.), np.float32(x_test/255.)\n",
    "x_train, x_val,  y_train, y_val  = train_test_split(x_train_full, y_train_full)"
   ]
  },
  {
   "cell_type": "markdown",
   "metadata": {},
   "source": [
    "# Training"
   ]
  },
  {
   "cell_type": "code",
   "execution_count": 3,
   "metadata": {},
   "outputs": [],
   "source": [
    "batch_size = 1024\n",
    "epochs = 10\n",
    "\n",
    "train_ds = tf.data.Dataset.from_tensor_slices((x_train, y_train)).shuffle(2048).batch(batch_size)\n",
    "val_ds   = tf.data.Dataset.from_tensor_slices((x_val, y_val)).shuffle(2048).batch(32)"
   ]
  },
  {
   "cell_type": "markdown",
   "metadata": {},
   "source": [
    "## Keras built-in methods\n",
    "First let's check with a single device"
   ]
  },
  {
   "cell_type": "code",
   "execution_count": 4,
   "metadata": {},
   "outputs": [],
   "source": [
    "toy_res = get_toy_ResNet()\n",
    "toy_res.compile(loss='sparse_categorical_crossentropy',\n",
    "              optimizer=\"RMSProp\",\n",
    "              metrics=[\"accuracy\"])"
   ]
  },
  {
   "cell_type": "code",
   "execution_count": 5,
   "metadata": {},
   "outputs": [
    {
     "name": "stdout",
     "output_type": "stream",
     "text": [
      "Epoch 1/10\n",
      "37/37 [==============================] - 2s 64ms/step - loss: 2.2335 - accuracy: 0.1965 - val_loss: 2.2974 - val_accuracy: 0.1059\n",
      "Epoch 2/10\n",
      "37/37 [==============================] - 2s 50ms/step - loss: 1.8760 - accuracy: 0.3130 - val_loss: 2.4973 - val_accuracy: 0.1059\n",
      "Epoch 3/10\n",
      "37/37 [==============================] - 2s 50ms/step - loss: 1.6596 - accuracy: 0.4036 - val_loss: 3.0878 - val_accuracy: 0.0998\n",
      "Epoch 4/10\n",
      "37/37 [==============================] - 2s 50ms/step - loss: 1.5043 - accuracy: 0.4671 - val_loss: 3.2483 - val_accuracy: 0.1039\n",
      "Epoch 5/10\n",
      "37/37 [==============================] - 2s 49ms/step - loss: 1.3762 - accuracy: 0.5178 - val_loss: 2.9638 - val_accuracy: 0.1126\n",
      "Epoch 6/10\n",
      "37/37 [==============================] - 2s 50ms/step - loss: 1.2862 - accuracy: 0.5554 - val_loss: 3.7383 - val_accuracy: 0.1032\n",
      "Epoch 7/10\n",
      "37/37 [==============================] - 2s 49ms/step - loss: 1.1881 - accuracy: 0.5927 - val_loss: 4.5655 - val_accuracy: 0.0999\n",
      "Epoch 8/10\n",
      "37/37 [==============================] - 2s 49ms/step - loss: 1.1100 - accuracy: 0.6211 - val_loss: 3.8967 - val_accuracy: 0.1241\n",
      "Epoch 9/10\n",
      "37/37 [==============================] - 2s 50ms/step - loss: 1.0522 - accuracy: 0.6434 - val_loss: 2.7420 - val_accuracy: 0.1870\n",
      "Epoch 10/10\n",
      "37/37 [==============================] - 2s 50ms/step - loss: 0.9863 - accuracy: 0.6650 - val_loss: 3.1976 - val_accuracy: 0.1782\n"
     ]
    }
   ],
   "source": [
    "history = toy_res.fit(train_ds, batch_size=batch_size, epochs=epochs, verbose=1,\n",
    "                      validation_data=(x_val, y_val))"
   ]
  },
  {
   "cell_type": "markdown",
   "metadata": {},
   "source": [
    "Now with all the devices available."
   ]
  },
  {
   "cell_type": "code",
   "execution_count": 6,
   "metadata": {},
   "outputs": [
    {
     "name": "stdout",
     "output_type": "stream",
     "text": [
      "INFO:tensorflow:Using MirroredStrategy with devices ('/job:localhost/replica:0/task:0/device:GPU:0', '/job:localhost/replica:0/task:0/device:GPU:1')\n",
      "Epoch 1/10\n",
      "INFO:tensorflow:batch_all_reduce: 27 all-reduces with algorithm = nccl, num_packs = 1\n",
      "INFO:tensorflow:Reduce to /job:localhost/replica:0/task:0/device:CPU:0 then broadcast to ('/job:localhost/replica:0/task:0/device:CPU:0',).\n",
      "INFO:tensorflow:Reduce to /job:localhost/replica:0/task:0/device:CPU:0 then broadcast to ('/job:localhost/replica:0/task:0/device:CPU:0',).\n",
      "INFO:tensorflow:Reduce to /job:localhost/replica:0/task:0/device:CPU:0 then broadcast to ('/job:localhost/replica:0/task:0/device:CPU:0',).\n",
      "INFO:tensorflow:Reduce to /job:localhost/replica:0/task:0/device:CPU:0 then broadcast to ('/job:localhost/replica:0/task:0/device:CPU:0',).\n",
      "INFO:tensorflow:batch_all_reduce: 27 all-reduces with algorithm = nccl, num_packs = 1\n",
      "INFO:tensorflow:Reduce to /job:localhost/replica:0/task:0/device:CPU:0 then broadcast to ('/job:localhost/replica:0/task:0/device:CPU:0',).\n",
      "INFO:tensorflow:Reduce to /job:localhost/replica:0/task:0/device:CPU:0 then broadcast to ('/job:localhost/replica:0/task:0/device:CPU:0',).\n",
      "INFO:tensorflow:Reduce to /job:localhost/replica:0/task:0/device:CPU:0 then broadcast to ('/job:localhost/replica:0/task:0/device:CPU:0',).\n",
      "INFO:tensorflow:Reduce to /job:localhost/replica:0/task:0/device:CPU:0 then broadcast to ('/job:localhost/replica:0/task:0/device:CPU:0',).\n",
      "37/37 [==============================] - ETA: 0s - accuracy: 0.2122 - loss: 2.1782INFO:tensorflow:Reduce to /job:localhost/replica:0/task:0/device:CPU:0 then broadcast to ('/job:localhost/replica:0/task:0/device:CPU:0',).\n",
      "INFO:tensorflow:Reduce to /job:localhost/replica:0/task:0/device:CPU:0 then broadcast to ('/job:localhost/replica:0/task:0/device:CPU:0',).\n",
      "37/37 [==============================] - 3s 82ms/step - accuracy: 0.2122 - loss: 2.1782 - val_accuracy: 0.1210 - val_loss: 2.2824\n",
      "Epoch 2/10\n",
      "37/37 [==============================] - 1s 36ms/step - accuracy: 0.3406 - loss: 1.8164 - val_accuracy: 0.1053 - val_loss: 2.3053\n",
      "Epoch 3/10\n",
      "37/37 [==============================] - 1s 36ms/step - accuracy: 0.4166 - loss: 1.6105 - val_accuracy: 0.1176 - val_loss: 2.3839\n",
      "Epoch 4/10\n",
      "37/37 [==============================] - 1s 36ms/step - accuracy: 0.4827 - loss: 1.4527 - val_accuracy: 0.1082 - val_loss: 2.5858\n",
      "Epoch 5/10\n",
      "37/37 [==============================] - 1s 36ms/step - accuracy: 0.5384 - loss: 1.3250 - val_accuracy: 0.1347 - val_loss: 2.4471\n",
      "Epoch 6/10\n",
      "37/37 [==============================] - 1s 36ms/step - accuracy: 0.5820 - loss: 1.2171 - val_accuracy: 0.1731 - val_loss: 2.2303\n",
      "Epoch 7/10\n",
      "37/37 [==============================] - 1s 36ms/step - accuracy: 0.6126 - loss: 1.1210 - val_accuracy: 0.1904 - val_loss: 2.3699\n",
      "Epoch 8/10\n",
      "37/37 [==============================] - 1s 36ms/step - accuracy: 0.6406 - loss: 1.0672 - val_accuracy: 0.1786 - val_loss: 2.2826\n",
      "Epoch 9/10\n",
      "37/37 [==============================] - 1s 36ms/step - accuracy: 0.6627 - loss: 0.9972 - val_accuracy: 0.1834 - val_loss: 2.2165\n",
      "Epoch 10/10\n",
      "37/37 [==============================] - 1s 36ms/step - accuracy: 0.6838 - loss: 0.9377 - val_accuracy: 0.2164 - val_loss: 2.4120\n"
     ]
    }
   ],
   "source": [
    "mirrored_strategy = tf.distribute.MirroredStrategy()\n",
    "\n",
    "with mirrored_strategy.scope():\n",
    "    dist_res = get_toy_ResNet()\n",
    "    dist_res.compile(loss='sparse_categorical_crossentropy',\n",
    "                     optimizer=\"RMSProp\",\n",
    "                     metrics=[\"accuracy\"])\n",
    "    \n",
    "history = dist_res.fit(x=x_train, y=y_train, batch_size=batch_size, epochs=epochs, verbose=1,\n",
    "                      validation_data=(x_val, y_val))"
   ]
  },
  {
   "cell_type": "markdown",
   "metadata": {},
   "source": [
    "# Custom training"
   ]
  },
  {
   "cell_type": "code",
   "execution_count": 8,
   "metadata": {},
   "outputs": [
    {
     "name": "stdout",
     "output_type": "stream",
     "text": [
      "INFO:tensorflow:Using MirroredStrategy with devices ('/job:localhost/replica:0/task:0/device:GPU:0', '/job:localhost/replica:0/task:0/device:GPU:1')\n"
     ]
    }
   ],
   "source": [
    "mirrored_strategy = tf.distribute.MirroredStrategy()\n",
    "\n",
    "# Model definition - as before\n",
    "with mirrored_strategy.scope():\n",
    "    dist_res = get_toy_ResNet()\n",
    "    optimizer = tf.keras.optimizers.RMSprop()\n",
    "\n",
    "# Change to distributed dataset\n",
    "dist_train_ds = mirrored_strategy.experimental_distribute_dataset(train_ds)\n",
    "\n",
    "@tf.function\n",
    "def train_step(x_dist, y_dist):\n",
    "    def step_fn(x_batch, y_batch):\n",
    "        with tf.GradientTape() as tape:\n",
    "            y_pred = dist_res(x_batch, training=True)\n",
    "            cross_entropy = tf.keras.losses.sparse_categorical_crossentropy(\n",
    "                y_true=y_batch, y_pred=y_pred)\n",
    "            loss = tf.reduce_sum(cross_entropy) * (1.0 / batch_size)\n",
    "        \n",
    "        grads = tape.gradient(loss, dist_res.trainable_variables)\n",
    "        optimizer.apply_gradients(list(zip(grads, dist_res.trainable_variables)))\n",
    "        return cross_entropy\n",
    "    # Run the step_fn in parallel\n",
    "    per_example_losses = mirrored_strategy.run(step_fn, args=(x_dist, y_dist))\n",
    "    # AllReduce\n",
    "    mean_loss = mirrored_strategy.reduce(\n",
    "        tf.distribute.ReduceOp.MEAN, per_example_losses, axis=0)\n",
    "    return mean_loss"
   ]
  },
  {
   "cell_type": "code",
   "execution_count": 11,
   "metadata": {},
   "outputs": [
    {
     "name": "stdout",
     "output_type": "stream",
     "text": [
      "INFO:tensorflow:batch_all_reduce: 27 all-reduces with algorithm = nccl, num_packs = 1\n",
      "INFO:tensorflow:batch_all_reduce: 27 all-reduces with algorithm = nccl, num_packs = 1\n",
      "INFO:tensorflow:batch_all_reduce: 27 all-reduces with algorithm = nccl, num_packs = 1\n",
      "Epoch 0/10.13.216s\tLast batch loss: 1.984\t Mean batch loss: 2.205\n",
      "Epoch 1/10.1.209s\tLast batch loss: 1.675\t Mean batch loss: 1.817\n",
      "Epoch 2/10.1.193s\tLast batch loss: 1.560\t Mean batch loss: 1.620\n",
      "Epoch 3/10.1.205s\tLast batch loss: 1.504\t Mean batch loss: 1.457\n",
      "Epoch 4/10.1.188s\tLast batch loss: 1.236\t Mean batch loss: 1.342\n",
      "Epoch 5/10.1.195s\tLast batch loss: 1.204\t Mean batch loss: 1.243\n",
      "Epoch 6/10.1.197s\tLast batch loss: 1.158\t Mean batch loss: 1.162\n",
      "Epoch 7/10.1.192s\tLast batch loss: 1.120\t Mean batch loss: 1.086\n",
      "Epoch 8/10.1.180s\tLast batch loss: 1.016\t Mean batch loss: 1.022\n",
      "Epoch 9/10.1.194s\tLast batch loss: 0.891\t Mean batch loss: 0.962\n"
     ]
    }
   ],
   "source": [
    "with mirrored_strategy.scope():\n",
    "    for epoch in range(epochs):\n",
    "        start = perf_counter()\n",
    "        batch_losses = []\n",
    "        for x_dits_batch, y_dits_batch in dist_train_ds:\n",
    "            batch_loss = train_step(x_dits_batch, y_dits_batch)\n",
    "            batch_losses.append(batch_loss.numpy())\n",
    "            \n",
    "        print(\"Epoch %d/%d. %.3fs\\tLast batch loss: %.3f\\t Mean batch loss: %.3f\"%\n",
    "                  (epoch, epochs, perf_counter()-start, batch_losses[-1], np.mean(batch_losses)))"
   ]
  },
  {
   "cell_type": "markdown",
   "metadata": {},
   "source": [
    "# AllReduce ops\n",
    "\n",
    "You can change AllReduce algorithm used setting `cross_device_ops` to:\n",
    "- `tf.distribute.NcclAllReduce` (the default one)\n",
    "- `tf.distribute.HierarchicalCopyAllReduce`\n",
    "- `tf.distribute.ReductionToOneDevice` "
   ]
  },
  {
   "cell_type": "code",
   "execution_count": 12,
   "metadata": {},
   "outputs": [
    {
     "name": "stdout",
     "output_type": "stream",
     "text": [
      "INFO:tensorflow:Using MirroredStrategy with devices ('/job:localhost/replica:0/task:0/device:GPU:0', '/job:localhost/replica:0/task:0/device:GPU:1')\n",
      "Epoch 1/10\n",
      "INFO:tensorflow:batch_all_reduce: 27 all-reduces with algorithm = hierarchical_copy, num_packs = 1\n",
      "INFO:tensorflow:batch_all_reduce: 27 all-reduces with algorithm = hierarchical_copy, num_packs = 1\n",
      "37/37 [==============================] - 3s 77ms/step - accuracy: 0.2047 - loss: 2.1924 - val_accuracy: 0.1109 - val_loss: 2.3434\n",
      "Epoch 2/10\n",
      "37/37 [==============================] - 1s 36ms/step - accuracy: 0.3138 - loss: 1.8562 - val_accuracy: 0.1037 - val_loss: 2.5385\n",
      "Epoch 3/10\n",
      "37/37 [==============================] - 1s 36ms/step - accuracy: 0.4030 - loss: 1.6450 - val_accuracy: 0.1003 - val_loss: 2.6368\n",
      "Epoch 4/10\n",
      "37/37 [==============================] - 1s 36ms/step - accuracy: 0.4737 - loss: 1.4778 - val_accuracy: 0.0998 - val_loss: 3.5133\n",
      "Epoch 5/10\n",
      "37/37 [==============================] - 1s 36ms/step - accuracy: 0.5311 - loss: 1.3491 - val_accuracy: 0.0997 - val_loss: 3.0425\n",
      "Epoch 6/10\n",
      "37/37 [==============================] - 1s 36ms/step - accuracy: 0.5715 - loss: 1.2420 - val_accuracy: 0.1490 - val_loss: 2.4509\n",
      "Epoch 7/10\n",
      "37/37 [==============================] - 1s 36ms/step - accuracy: 0.6040 - loss: 1.1643 - val_accuracy: 0.1058 - val_loss: 2.6259\n",
      "Epoch 8/10\n",
      "37/37 [==============================] - 1s 36ms/step - accuracy: 0.6299 - loss: 1.0880 - val_accuracy: 0.1185 - val_loss: 2.3439\n",
      "Epoch 9/10\n",
      "37/37 [==============================] - 1s 36ms/step - accuracy: 0.6557 - loss: 1.0290 - val_accuracy: 0.1670 - val_loss: 2.3342\n",
      "Epoch 10/10\n",
      "37/37 [==============================] - 1s 36ms/step - accuracy: 0.6768 - loss: 0.9583 - val_accuracy: 0.1413 - val_loss: 2.4241\n"
     ]
    }
   ],
   "source": [
    "mirrored_strategy = tf.distribute.MirroredStrategy(cross_device_ops=tf.distribute.HierarchicalCopyAllReduce())\n",
    "\n",
    "with mirrored_strategy.scope():\n",
    "    dist_res = get_toy_ResNet()\n",
    "    dist_res.compile(loss='sparse_categorical_crossentropy',\n",
    "                     optimizer=\"RMSProp\",\n",
    "                     metrics=[\"accuracy\"])\n",
    "    \n",
    "history = dist_res.fit(x=x_train, y=y_train, batch_size=batch_size, epochs=epochs, verbose=1,\n",
    "                      validation_data=(x_val, y_val))"
   ]
  },
  {
   "cell_type": "code",
   "execution_count": 13,
   "metadata": {},
   "outputs": [
    {
     "name": "stdout",
     "output_type": "stream",
     "text": [
      "INFO:tensorflow:Using MirroredStrategy with devices ('/job:localhost/replica:0/task:0/device:GPU:0', '/job:localhost/replica:0/task:0/device:GPU:1')\n",
      "Epoch 1/10\n",
      "INFO:tensorflow:Reduce to /job:localhost/replica:0/task:0/device:GPU:0 then broadcast to ('/job:localhost/replica:0/task:0/device:GPU:0', '/job:localhost/replica:0/task:0/device:GPU:1').\n",
      "INFO:tensorflow:Reduce to /job:localhost/replica:0/task:0/device:GPU:0 then broadcast to ('/job:localhost/replica:0/task:0/device:GPU:0', '/job:localhost/replica:0/task:0/device:GPU:1').\n",
      "INFO:tensorflow:Reduce to /job:localhost/replica:0/task:0/device:GPU:0 then broadcast to ('/job:localhost/replica:0/task:0/device:GPU:0', '/job:localhost/replica:0/task:0/device:GPU:1').\n",
      "37/37 [==============================] - 3s 78ms/step - accuracy: 0.2081 - loss: 2.1794 - val_accuracy: 0.1061 - val_loss: 2.3229\n",
      "Epoch 2/10\n",
      "37/37 [==============================] - 1s 37ms/step - accuracy: 0.3210 - loss: 1.8352 - val_accuracy: 0.1080 - val_loss: 2.4586\n",
      "Epoch 3/10\n",
      "37/37 [==============================] - 1s 37ms/step - accuracy: 0.3958 - loss: 1.6424 - val_accuracy: 0.1037 - val_loss: 2.6941\n",
      "Epoch 4/10\n",
      "37/37 [==============================] - 1s 37ms/step - accuracy: 0.4547 - loss: 1.5043 - val_accuracy: 0.1037 - val_loss: 3.2210\n",
      "Epoch 5/10\n",
      "37/37 [==============================] - 1s 37ms/step - accuracy: 0.5037 - loss: 1.3801 - val_accuracy: 0.1037 - val_loss: 3.1869\n",
      "Epoch 6/10\n",
      "37/37 [==============================] - 1s 37ms/step - accuracy: 0.5481 - loss: 1.2789 - val_accuracy: 0.1037 - val_loss: 2.8917\n",
      "Epoch 7/10\n",
      "37/37 [==============================] - 1s 36ms/step - accuracy: 0.5822 - loss: 1.1980 - val_accuracy: 0.1083 - val_loss: 3.5565\n",
      "Epoch 8/10\n",
      "37/37 [==============================] - 1s 37ms/step - accuracy: 0.6137 - loss: 1.1243 - val_accuracy: 0.1416 - val_loss: 3.3568\n",
      "Epoch 9/10\n",
      "37/37 [==============================] - 1s 37ms/step - accuracy: 0.6385 - loss: 1.0526 - val_accuracy: 0.1130 - val_loss: 2.6912\n",
      "Epoch 10/10\n",
      "37/37 [==============================] - 1s 37ms/step - accuracy: 0.6625 - loss: 0.9882 - val_accuracy: 0.1380 - val_loss: 3.7626\n"
     ]
    }
   ],
   "source": [
    "mirrored_strategy = tf.distribute.MirroredStrategy(cross_device_ops=tf.distribute.ReductionToOneDevice())\n",
    "\n",
    "with mirrored_strategy.scope():\n",
    "    dist_res = get_toy_ResNet()\n",
    "    dist_res.compile(loss='sparse_categorical_crossentropy',\n",
    "                     optimizer=\"RMSProp\",\n",
    "                     metrics=[\"accuracy\"])\n",
    "    \n",
    "history = dist_res.fit(x=x_train, y=y_train, batch_size=batch_size, epochs=epochs, verbose=1,\n",
    "                      validation_data=(x_val, y_val))"
   ]
  },
  {
   "cell_type": "code",
   "execution_count": null,
   "metadata": {},
   "outputs": [],
   "source": []
  }
 ],
 "metadata": {
  "kernelspec": {
   "display_name": "Python3 DL",
   "language": "python",
   "name": "dl-env"
  },
  "language_info": {
   "codemirror_mode": {
    "name": "ipython",
    "version": 3
   },
   "file_extension": ".py",
   "mimetype": "text/x-python",
   "name": "python",
   "nbconvert_exporter": "python",
   "pygments_lexer": "ipython3",
   "version": "3.8.2"
  }
 },
 "nbformat": 4,
 "nbformat_minor": 4
}
