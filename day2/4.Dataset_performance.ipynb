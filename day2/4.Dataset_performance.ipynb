{
 "cells": [
  {
   "cell_type": "markdown",
   "metadata": {},
   "source": [
    "# Optimize input pipeline performances\n",
    "The `tf.data` API includes flexible tools to build performant input pipelines. This is crucial when working with accellerators where the aim is to reduce their idle time spent waiting for data.\n",
    "\n",
    "The code in the notebook is a slight modification of the code available in the [official guide](https://www.tensorflow.org/guide/data_performance)."
   ]
  },
  {
   "cell_type": "code",
   "execution_count": 1,
   "metadata": {},
   "outputs": [],
   "source": [
    "import tensorflow as tf\n",
    "import numpy as np\n",
    "from time import time, sleep\n",
    "import matplotlib.pyplot as plt"
   ]
  },
  {
   "cell_type": "code",
   "execution_count": 2,
   "metadata": {},
   "outputs": [],
   "source": [
    "# Custom Dataset: similar to Dataset.range but with fixed \n",
    "# time delays to simulate file opening and record reading\n",
    "class ArtificialDataset(tf.data.Dataset):\n",
    "    def _generator(num_samples):\n",
    "        # Opening the file\n",
    "        sleep(0.3)\n",
    "        \n",
    "        for sample_idx in range(num_samples):\n",
    "            # Reading data (line, record) from the file\n",
    "            sleep(0.2)\n",
    "            \n",
    "            yield (sample_idx,)\n",
    "    \n",
    "    def __new__(cls, num_samples=3):\n",
    "        return tf.data.Dataset.from_generator(\n",
    "            cls._generator,\n",
    "            output_types=tf.dtypes.int64,\n",
    "            output_shapes=(1,),\n",
    "            args=(num_samples,)\n",
    "        )"
   ]
  },
  {
   "cell_type": "code",
   "execution_count": 3,
   "metadata": {},
   "outputs": [],
   "source": [
    "def benchmark(dataset, num_epochs=1):\n",
    "    start_time = time()\n",
    "    times = [start_time]\n",
    "    \n",
    "    for epoch_num in range(num_epochs):\n",
    "        epoch_start = time()\n",
    "        for sample in dataset:\n",
    "            # Performing a training step\n",
    "            sleep(0.1)\n",
    "            \n",
    "            times.append(time())\n",
    "            tf.print(\"Step time:\\t%.2f\"%(times[-1] - times[-2]))\n",
    "                \n",
    "        tf.print(\"Epoch end:\\t%.2f\"%(time() - epoch_start))    \n",
    "        \n",
    "    tf.print(\"Total time:\\t%.2f\"%(time() - start_time))\n",
    "    plt.bar(np.arange(len(times)-1),np.diff(times))\n",
    "    plt.xlabel(\"Step\")\n",
    "    plt.xticks(np.arange(len(times)-1))"
   ]
  },
  {
   "cell_type": "code",
   "execution_count": 4,
   "metadata": {},
   "outputs": [
    {
     "name": "stdout",
     "output_type": "stream",
     "text": [
      "Step time:\t0.61\n",
      "Step time:\t0.31\n",
      "Step time:\t0.30\n",
      "Epoch end:\t1.23\n",
      "Total time:\t1.23\n"
     ]
    },
    {
     "data": {
      "image/png": "[encoded data removed]",
      "text/plain": [
       "<Figure size 432x288 with 1 Axes>"
      ]
     },
     "metadata": {
      "needs_background": "light"
     },
     "output_type": "display_data"
    }
   ],
   "source": [
    "benchmark(\n",
    "    ArtificialDataset()\n",
    ")"
   ]
  },
  {
   "cell_type": "markdown",
   "metadata": {},
   "source": [
    "![naive](https://www.tensorflow.org/guide/images/data_performance/naive.svg)"
   ]
  },
  {
   "cell_type": "markdown",
   "metadata": {},
   "source": [
    "# Prefetch"
   ]
  },
  {
   "cell_type": "code",
   "execution_count": 5,
   "metadata": {},
   "outputs": [
    {
     "name": "stdout",
     "output_type": "stream",
     "text": [
      "Step time:\t0.62\n",
      "Step time:\t0.20\n",
      "Step time:\t0.21\n",
      "Epoch end:\t1.03\n",
      "Total time:\t1.03\n"
     ]
    },
    {
     "data": {
      "image/png": "[encoded data removed]",
      "text/plain": [
       "<Figure size 432x288 with 1 Axes>"
      ]
     },
     "metadata": {
      "needs_background": "light"
     },
     "output_type": "display_data"
    }
   ],
   "source": [
    "benchmark(\n",
    "    ArtificialDataset().prefetch(1)\n",
    ")"
   ]
  },
  {
   "cell_type": "markdown",
   "metadata": {},
   "source": [
    "![prefetched~](https://www.tensorflow.org/guide/images/data_performance/prefetched.svg)"
   ]
  },
  {
   "cell_type": "markdown",
   "metadata": {},
   "source": [
    "## Interleave\n",
    "In what follows we will simulate a scenario where the data come from 2 files. As baseline reference consider iterating through the artificial dataset 2 times."
   ]
  },
  {
   "cell_type": "code",
   "execution_count": 6,
   "metadata": {},
   "outputs": [
    {
     "name": "stdout",
     "output_type": "stream",
     "text": [
      "Step time:\t0.62\n",
      "Step time:\t0.31\n",
      "Step time:\t0.31\n",
      "Epoch end:\t1.26\n",
      "Step time:\t0.65\n",
      "Step time:\t0.31\n",
      "Step time:\t0.31\n",
      "Epoch end:\t1.24\n",
      "Total time:\t2.51\n"
     ]
    },
    {
     "data": {
      "image/png": "[encoded data removed]",
      "text/plain": [
       "<Figure size 432x288 with 1 Axes>"
      ]
     },
     "metadata": {
      "needs_background": "light"
     },
     "output_type": "display_data"
    }
   ],
   "source": [
    "benchmark(ArtificialDataset(), num_epochs=2)"
   ]
  },
  {
   "cell_type": "code",
   "execution_count": 7,
   "metadata": {},
   "outputs": [
    {
     "name": "stdout",
     "output_type": "stream",
     "text": [
      "Step time:\t0.62\n",
      "Step time:\t0.62\n",
      "Step time:\t0.30\n",
      "Step time:\t0.30\n",
      "Step time:\t0.30\n",
      "Step time:\t0.31\n",
      "Epoch end:\t2.45\n",
      "Total time:\t2.45\n"
     ]
    },
    {
     "data": {
      "image/png": "[encoded data removed]",
      "text/plain": [
       "<Figure size 432x288 with 1 Axes>"
      ]
     },
     "metadata": {
      "needs_background": "light"
     },
     "output_type": "display_data"
    }
   ],
   "source": [
    "benchmark(\n",
    "    tf.data.Dataset.range(2).interleave(lambda x: ArtificialDataset()),\n",
    "    num_epochs=1)"
   ]
  },
  {
   "cell_type": "markdown",
   "metadata": {},
   "source": [
    "![sequential_interleave](https://www.tensorflow.org/guide/images/data_performance/sequential_interleave.svg)"
   ]
  },
  {
   "cell_type": "code",
   "execution_count": 8,
   "metadata": {},
   "outputs": [
    {
     "name": "stdout",
     "output_type": "stream",
     "text": [
      "Step time:\t0.62\n",
      "Step time:\t0.10\n",
      "Step time:\t0.10\n",
      "Step time:\t0.10\n",
      "Step time:\t0.10\n",
      "Step time:\t0.11\n",
      "Epoch end:\t1.15\n",
      "Total time:\t1.15\n"
     ]
    },
    {
     "data": {
      "image/png": "[encoded data removed]",
      "text/plain": [
       "<Figure size 432x288 with 1 Axes>"
      ]
     },
     "metadata": {
      "needs_background": "light"
     },
     "output_type": "display_data"
    }
   ],
   "source": [
    "benchmark(\n",
    "    tf.data.Dataset.range(2).interleave(lambda x: ArtificialDataset(),\n",
    "                                        block_length=1,\n",
    "                                        num_parallel_calls=2),\n",
    "    num_epochs=1)"
   ]
  },
  {
   "cell_type": "markdown",
   "metadata": {},
   "source": [
    "![parallel_interleave](https://www.tensorflow.org/guide/images/data_performance/parallel_interleave.svg)"
   ]
  },
  {
   "cell_type": "markdown",
   "metadata": {},
   "source": [
    "## Data transformation\n",
    "Now we will simulate some extra time delay caused by a preprocessing step in the input pipeline."
   ]
  },
  {
   "cell_type": "code",
   "execution_count": 9,
   "metadata": {},
   "outputs": [],
   "source": [
    "def mapped_function(s):\n",
    "    # Do some hard pre-processing\n",
    "    tf.py_function(lambda: sleep(0.3), [], ())\n",
    "    return s"
   ]
  },
  {
   "cell_type": "code",
   "execution_count": 10,
   "metadata": {},
   "outputs": [
    {
     "name": "stdout",
     "output_type": "stream",
     "text": [
      "Step time:\t0.92\n",
      "Step time:\t0.62\n",
      "Step time:\t0.61\n",
      "Epoch end:\t2.15\n",
      "Total time:\t2.15\n"
     ]
    },
    {
     "data": {
      "image/png": "[encoded data removed]",
      "text/plain": [
       "<Figure size 432x288 with 1 Axes>"
      ]
     },
     "metadata": {
      "needs_background": "light"
     },
     "output_type": "display_data"
    }
   ],
   "source": [
    "benchmark(ArtificialDataset().map(mapped_function))"
   ]
  },
  {
   "cell_type": "markdown",
   "metadata": {},
   "source": [
    "![sequential_map](https://www.tensorflow.org/guide/images/data_performance/sequential_map.svg)"
   ]
  },
  {
   "cell_type": "code",
   "execution_count": 11,
   "metadata": {},
   "outputs": [
    {
     "name": "stdout",
     "output_type": "stream",
     "text": [
      "Step time:\t0.92\n",
      "Step time:\t0.20\n",
      "Step time:\t0.21\n",
      "Epoch end:\t1.33\n",
      "Total time:\t1.33\n"
     ]
    },
    {
     "data": {
      "image/png": "[encoded data removed]",
      "text/plain": [
       "<Figure size 432x288 with 1 Axes>"
      ]
     },
     "metadata": {
      "needs_background": "light"
     },
     "output_type": "display_data"
    }
   ],
   "source": [
    "benchmark(ArtificialDataset().map(mapped_function, num_parallel_calls=3))"
   ]
  },
  {
   "cell_type": "markdown",
   "metadata": {},
   "source": [
    "![parallel_map](https://www.tensorflow.org/guide/images/data_performance/parallel_map.svg)"
   ]
  },
  {
   "cell_type": "markdown",
   "metadata": {},
   "source": [
    "## Caching\n",
    "There could be transformations of the dataset that there is no need to repeat. In these casses the `Dataset.cache` transformation allows us to cache a dataset during the first epoch, either in memory or on local storage, and reuse the cached data in the following epochs."
   ]
  },
  {
   "cell_type": "code",
   "execution_count": 12,
   "metadata": {},
   "outputs": [
    {
     "name": "stdout",
     "output_type": "stream",
     "text": [
      "Step time:\t0.92\n",
      "Step time:\t0.61\n",
      "Step time:\t0.61\n",
      "Epoch end:\t2.15\n",
      "Step time:\t0.12\n",
      "Step time:\t0.10\n",
      "Step time:\t0.11\n",
      "Epoch end:\t0.33\n",
      "Total time:\t2.49\n"
     ]
    },
    {
     "data": {
      "image/png": "[encoded data removed]",
      "text/plain": [
       "<Figure size 432x288 with 1 Axes>"
      ]
     },
     "metadata": {
      "needs_background": "light"
     },
     "output_type": "display_data"
    }
   ],
   "source": [
    "# cache after time consuming map!\n",
    "benchmark(ArtificialDataset().map(mapped_function).cache(),2)"
   ]
  },
  {
   "cell_type": "markdown",
   "metadata": {},
   "source": [
    "![cached_dataset](https://www.tensorflow.org/guide/images/data_performance/cached_dataset.svg)"
   ]
  },
  {
   "cell_type": "markdown",
   "metadata": {},
   "source": [
    "## Vectorizing mapping"
   ]
  },
  {
   "cell_type": "code",
   "execution_count": 26,
   "metadata": {},
   "outputs": [],
   "source": [
    "def vectorizable_map(x):\n",
    "    return tf.ones(shape=(int(1e8),1), dtype=tf.int64)@tf.reshape(x,(1,-1))"
   ]
  },
  {
   "cell_type": "code",
   "execution_count": 27,
   "metadata": {},
   "outputs": [
    {
     "name": "stdout",
     "output_type": "stream",
     "text": [
      "Step time:\t5.75\n",
      "Epoch end:\t5.75\n",
      "Total time:\t5.75\n"
     ]
    },
    {
     "data": {
      "image/png": "[encoded data removed]",
      "text/plain": [
       "<Figure size 432x288 with 1 Axes>"
      ]
     },
     "metadata": {
      "needs_background": "light"
     },
     "output_type": "display_data"
    }
   ],
   "source": [
    "benchmark(\n",
    "    ArtificialDataset().map(vectorizable_map).batch(3)\n",
    ")"
   ]
  },
  {
   "cell_type": "code",
   "execution_count": 28,
   "metadata": {},
   "outputs": [
    {
     "name": "stdout",
     "output_type": "stream",
     "text": [
      "Step time:\t2.59\n",
      "Epoch end:\t2.62\n",
      "Total time:\t2.62\n"
     ]
    },
    {
     "data": {
      "image/png": "[encoded data removed]",
      "text/plain": [
       "<Figure size 432x288 with 1 Axes>"
      ]
     },
     "metadata": {
      "needs_background": "light"
     },
     "output_type": "display_data"
    }
   ],
   "source": [
    "benchmark(\n",
    "    ArtificialDataset().batch(3).map(vectorizable_map)\n",
    ")"
   ]
  },
  {
   "cell_type": "code",
   "execution_count": null,
   "metadata": {},
   "outputs": [],
   "source": []
  }
 ],
 "metadata": {
  "kernelspec": {
   "display_name": "Python 3",
   "language": "python",
   "name": "python3"
  },
  "language_info": {
   "codemirror_mode": {
    "name": "ipython",
    "version": 3
   },
   "file_extension": ".py",
   "mimetype": "text/x-python",
   "name": "python",
   "nbconvert_exporter": "python",
   "pygments_lexer": "ipython3",
   "version": "3.7.6"
  }
 },
 "nbformat": 4,
 "nbformat_minor": 4
}
