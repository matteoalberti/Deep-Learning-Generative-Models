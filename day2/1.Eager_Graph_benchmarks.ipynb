{
 "cells": [
  {
   "cell_type": "code",
   "execution_count": 1,
   "metadata": {},
   "outputs": [
    {
     "data": {
      "text/plain": [
       "[PhysicalDevice(name='/physical_device:GPU:0', device_type='GPU')]"
      ]
     },
     "execution_count": 1,
     "metadata": {},
     "output_type": "execute_result"
    }
   ],
   "source": [
    "import tensorflow as tf\n",
    "import numpy as np\n",
    "import matplotlib.pyplot as plt\n",
    "from time import perf_counter\n",
    "import os\n",
    "from model_toy import get_toy_ResNet\n",
    "\n",
    "# Set GPU visibility to first device only\n",
    "physical_devices = tf.config.get_visible_devices('GPU')\n",
    "tf.config.set_visible_devices(physical_devices[:1], 'GPU')\n",
    "tf.config.get_visible_devices('GPU')"
   ]
  },
  {
   "cell_type": "markdown",
   "metadata": {},
   "source": [
    "# Benchmark"
   ]
  },
  {
   "cell_type": "code",
   "execution_count": 2,
   "metadata": {},
   "outputs": [],
   "source": [
    "def timeit(func, *args, max_iterations=200, **kwargs):\n",
    "    # First call not timed\n",
    "#     func(*args, **kwargs)\n",
    "    # Time iterations\n",
    "    times = []\n",
    "    for counter in range(max_iterations):\n",
    "        t1 = perf_counter()\n",
    "        func(*args, **kwargs)\n",
    "        times.append(perf_counter() - t1)\n",
    "        \n",
    "    print(\"%d iterations. Time/iter: %.4f sec\" % (counter +1, np.mean(times)))\n",
    "    plt.stem(times, use_line_collection=True)"
   ]
  },
  {
   "cell_type": "code",
   "execution_count": 3,
   "metadata": {},
   "outputs": [],
   "source": [
    "batch_size = 32\n",
    "loss_fn    = tf.keras.losses.sparse_categorical_crossentropy\n",
    "optimizer  = tf.keras.optimizers.RMSprop()\n",
    "acc_metric = tf.keras.metrics.SparseCategoricalAccuracy()"
   ]
  },
  {
   "cell_type": "code",
   "execution_count": 4,
   "metadata": {},
   "outputs": [
    {
     "name": "stdout",
     "output_type": "stream",
     "text": [
      "x_batch: (32, 32, 32, 3)\n",
      "y_batch: (32, 1)\n"
     ]
    }
   ],
   "source": [
    "(x_train_full, y_train_full), _ = tf.keras.datasets.cifar10.load_data()\n",
    "x_batch = tf.constant(x_train_full[:batch_size]/255., dtype=tf.float32)\n",
    "y_batch = tf.constant(y_train_full[:batch_size], dtype=tf.float32)\n",
    "print(\"x_batch:\", x_batch.shape)\n",
    "print(\"y_batch:\", y_batch.shape)"
   ]
  },
  {
   "cell_type": "markdown",
   "metadata": {},
   "source": [
    "## Built-in method"
   ]
  },
  {
   "cell_type": "code",
   "execution_count": 5,
   "metadata": {
    "scrolled": false
   },
   "outputs": [
    {
     "name": "stdout",
     "output_type": "stream",
     "text": [
      "200 iterations. Time/iter: 0.0544 sec\n"
     ]
    },
    {
     "data": {
      "image/png": "[encoded data removed]",
      "text/plain": [
       "<Figure size 432x288 with 1 Axes>"
      ]
     },
     "metadata": {
      "needs_background": "light"
     },
     "output_type": "display_data"
    }
   ],
   "source": [
    "model = get_toy_ResNet()\n",
    "\n",
    "model.compile(loss=loss_fn, optimizer=optimizer, metrics=[\"accuracy\"])\n",
    "\n",
    "timeit(model.train_step, (x_batch, y_batch))"
   ]
  },
  {
   "cell_type": "code",
   "execution_count": 6,
   "metadata": {
    "scrolled": false
   },
   "outputs": [
    {
     "name": "stdout",
     "output_type": "stream",
     "text": [
      "200 iterations. Time/iter: 0.0182 sec\n"
     ]
    },
    {
     "data": {
      "image/png": "[encoded data removed]",
      "text/plain": [
       "<Figure size 432x288 with 1 Axes>"
      ]
     },
     "metadata": {
      "needs_background": "light"
     },
     "output_type": "display_data"
    }
   ],
   "source": [
    "model = get_toy_ResNet()\n",
    "model.compile(loss=loss_fn, optimizer=optimizer, metrics=[\"accuracy\"])\n",
    "timeit(model.train_on_batch, x_batch, y_batch)"
   ]
  },
  {
   "cell_type": "markdown",
   "metadata": {},
   "source": [
    "## Custom train step"
   ]
  },
  {
   "cell_type": "code",
   "execution_count": 7,
   "metadata": {},
   "outputs": [],
   "source": [
    "from sklearn.metrics import accuracy_score\n",
    "\n",
    "def train_step(x_batch, y_batch, model, loss_fn, optimizer):\n",
    "    with tf.GradientTape() as tape:\n",
    "        # Forward\n",
    "        y_pred   = model(x_batch, training=True)\n",
    "        out_loss = tf.reduce_mean(loss_fn(y_batch, y_pred))\n",
    "        tot_loss = tf.add_n([out_loss] + model.losses) ## In case there are extra losses from the layers (l2 normalisation, etc..)\n",
    "    # Backward    \n",
    "    gradients = tape.gradient(tot_loss, model.trainable_variables)\n",
    "    # Update\n",
    "    optimizer.apply_gradients(zip(gradients, model.trainable_variables))\n",
    "    return y_pred, tot_loss\n",
    "\n",
    "def evaluate(model, x, y):\n",
    "    y_pred = np.argmax(model(x), axis=1)\n",
    "    print(\"Accuracy: %.3f\"% accuracy_score(y, y_pred))"
   ]
  },
  {
   "cell_type": "code",
   "execution_count": 8,
   "metadata": {
    "scrolled": false
   },
   "outputs": [
    {
     "name": "stdout",
     "output_type": "stream",
     "text": [
      "200 iterations. Time/iter: 0.0468 sec\n"
     ]
    },
    {
     "data": {
      "image/png": "[encoded data removed]",
      "text/plain": [
       "<Figure size 432x288 with 1 Axes>"
      ]
     },
     "metadata": {
      "needs_background": "light"
     },
     "output_type": "display_data"
    }
   ],
   "source": [
    "model = get_toy_ResNet()\n",
    "\n",
    "timeit(train_step, x_batch, y_batch, model, loss_fn, optimizer)"
   ]
  },
  {
   "cell_type": "code",
   "execution_count": 9,
   "metadata": {},
   "outputs": [
    {
     "name": "stdout",
     "output_type": "stream",
     "text": [
      "200 iterations. Time/iter: 0.0040 sec\n"
     ]
    },
    {
     "data": {
      "image/png": "[encoded data removed]",
      "text/plain": [
       "<Figure size 432x288 with 1 Axes>"
      ]
     },
     "metadata": {
      "needs_background": "light"
     },
     "output_type": "display_data"
    }
   ],
   "source": [
    "model = get_toy_ResNet()\n",
    "tf_train_step = tf.function(train_step)\n",
    "\n",
    "timeit(tf_train_step, x_batch, y_batch, model, loss_fn, optimizer)"
   ]
  },
  {
   "cell_type": "code",
   "execution_count": null,
   "metadata": {},
   "outputs": [],
   "source": []
  }
 ],
 "metadata": {
  "kernelspec": {
   "display_name": "Python3 DL",
   "language": "python",
   "name": "dl-env"
  },
  "language_info": {
   "codemirror_mode": {
    "name": "ipython",
    "version": 3
   },
   "file_extension": ".py",
   "mimetype": "text/x-python",
   "name": "python",
   "nbconvert_exporter": "python",
   "pygments_lexer": "ipython3",
   "version": "3.8.2"
  }
 },
 "nbformat": 4,
 "nbformat_minor": 4
}
