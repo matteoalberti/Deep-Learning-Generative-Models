{
 "cells": [
  {
   "cell_type": "code",
   "execution_count": 1,
   "metadata": {},
   "outputs": [],
   "source": [
    "import tensorflow as tf\n",
    "import numpy as np\n",
    "import matplotlib.pyplot as plt\n",
    "from datetime import datetime\n",
    "import os\n",
    "\n",
    "root_logs = os.path.join('logs', 'subclassing')\n",
    "os.makedirs(root_logs, exist_ok=True)"
   ]
  },
  {
   "cell_type": "code",
   "execution_count": 2,
   "metadata": {},
   "outputs": [
    {
     "data": {
      "text/plain": [
       "[PhysicalDevice(name='/physical_device:GPU:0', device_type='GPU')]"
      ]
     },
     "execution_count": 2,
     "metadata": {},
     "output_type": "execute_result"
    }
   ],
   "source": [
    "tf.config.get_visible_devices('GPU')"
   ]
  },
  {
   "cell_type": "markdown",
   "metadata": {},
   "source": [
    "# Get the data"
   ]
  },
  {
   "cell_type": "code",
   "execution_count": 3,
   "metadata": {},
   "outputs": [],
   "source": [
    "(x_train_full, y_train_full), (x_test, y_test) = tf.keras.datasets.cifar10.load_data()\n",
    "x_train_full, x_test = x_train_full/255., x_test/255."
   ]
  },
  {
   "cell_type": "code",
   "execution_count": 4,
   "metadata": {},
   "outputs": [],
   "source": [
    "from sklearn.model_selection import train_test_split\n",
    "x_train, x_val,  y_train, y_val  = train_test_split(x_train_full, y_train_full)"
   ]
  },
  {
   "cell_type": "markdown",
   "metadata": {},
   "source": [
    "## Define the VGG block\n",
    "To define a block of layers we can subclass directly from the tf.keras.layers.Layer class."
   ]
  },
  {
   "cell_type": "code",
   "execution_count": 5,
   "metadata": {},
   "outputs": [],
   "source": [
    "from tensorflow.keras.layers import Conv2D, MaxPooling2D\n",
    "\n",
    "class VGG_block(tf.keras.layers.Layer):\n",
    "    def __init__(self, n_filters=32, **kwargs):\n",
    "        super().__init__(**kwargs)\n",
    "        self.n_filters = n_filters\n",
    "        self.conv1 = Conv2D(n_filters, 3, activation='relu', padding='same')\n",
    "        self.conv2 = Conv2D(n_filters, 3, activation='relu', padding='same')\n",
    "        self.maxpo = MaxPooling2D((2, 2))\n",
    "    \n",
    "    def call(self, x):\n",
    "        x = self.conv1(x)\n",
    "        x = self.conv2(x)\n",
    "        x = self.maxpo(x)\n",
    "        return x\n",
    "    \n",
    "    def get_config(self):\n",
    "        config = super().get_config()\n",
    "        config.update({'n_filters': self.n_filters})\n",
    "        return config"
   ]
  },
  {
   "cell_type": "markdown",
   "metadata": {},
   "source": [
    "## Define a Sequential model with the custom block"
   ]
  },
  {
   "cell_type": "markdown",
   "metadata": {},
   "source": [
    "The new block of layers we have just defined can be used as a normal layer when constructing a model using the Sequential or the Functional APIs:"
   ]
  },
  {
   "cell_type": "code",
   "execution_count": 6,
   "metadata": {},
   "outputs": [
    {
     "name": "stdout",
     "output_type": "stream",
     "text": [
      "Model: \"sequential\"\n",
      "_________________________________________________________________\n",
      "Layer (type)                 Output Shape              Param #   \n",
      "=================================================================\n",
      "vgg_block (VGG_block)        (None, 16, 16, 16)        2768      \n",
      "_________________________________________________________________\n",
      "vgg_block_1 (VGG_block)      (None, 8, 8, 32)          13888     \n",
      "_________________________________________________________________\n",
      "vgg_block_2 (VGG_block)      (None, 4, 4, 64)          55424     \n",
      "_________________________________________________________________\n",
      "flatten (Flatten)            (None, 1024)              0         \n",
      "_________________________________________________________________\n",
      "dropout (Dropout)            (None, 1024)              0         \n",
      "_________________________________________________________________\n",
      "dense (Dense)                (None, 128)               131200    \n",
      "_________________________________________________________________\n",
      "dropout_1 (Dropout)          (None, 128)               0         \n",
      "_________________________________________________________________\n",
      "dense_1 (Dense)              (None, 10)                1290      \n",
      "=================================================================\n",
      "Total params: 204,570\n",
      "Trainable params: 204,570\n",
      "Non-trainable params: 0\n",
      "_________________________________________________________________\n"
     ]
    }
   ],
   "source": [
    "from tensorflow.keras.layers import Dense, Flatten, Dropout\n",
    "\n",
    "baseline = tf.keras.Sequential()\n",
    "baseline.add(VGG_block(16, input_shape=[32,32,3]))\n",
    "baseline.add(VGG_block(32))\n",
    "baseline.add(VGG_block(64))\n",
    "baseline.add(Flatten())\n",
    "baseline.add(Dropout(0.5))\n",
    "baseline.add(Dense(128, activation='relu'))\n",
    "baseline.add(Dropout(0.5))\n",
    "baseline.add(Dense(10, activation='softmax'))\n",
    "\n",
    "baseline.summary()"
   ]
  },
  {
   "cell_type": "code",
   "execution_count": 11,
   "metadata": {},
   "outputs": [
    {
     "name": "stdout",
     "output_type": "stream",
     "text": [
      "Epoch 1/5\n",
      "1172/1172 [==============================] - 6s 5ms/step - loss: 1.7980 - accuracy: 0.3348 - val_loss: 1.3891 - val_accuracy: 0.4917\n",
      "Epoch 2/5\n",
      "1172/1172 [==============================] - 5s 4ms/step - loss: 1.4285 - accuracy: 0.4822 - val_loss: 1.1931 - val_accuracy: 0.5681\n",
      "Epoch 3/5\n",
      "1172/1172 [==============================] - 5s 4ms/step - loss: 1.2666 - accuracy: 0.5522 - val_loss: 1.1305 - val_accuracy: 0.5969\n",
      "Epoch 4/5\n",
      "1172/1172 [==============================] - 5s 4ms/step - loss: 1.1635 - accuracy: 0.5943 - val_loss: 1.0685 - val_accuracy: 0.6257\n",
      "Epoch 5/5\n",
      "1172/1172 [==============================] - 5s 4ms/step - loss: 1.1060 - accuracy: 0.6222 - val_loss: 0.9792 - val_accuracy: 0.6624\n"
     ]
    }
   ],
   "source": [
    "baseline.compile(loss='sparse_categorical_crossentropy',\n",
    "              optimizer=\"RMSProp\",\n",
    "              metrics=[\"accuracy\"])\n",
    "\n",
    "history = baseline.fit(x=x_train, y=y_train, batch_size=32, epochs=5, verbose=1,\n",
    "                    validation_data=(x_val, y_val))"
   ]
  },
  {
   "cell_type": "markdown",
   "metadata": {},
   "source": [
    "### Save and Load..."
   ]
  },
  {
   "cell_type": "code",
   "execution_count": 8,
   "metadata": {},
   "outputs": [],
   "source": [
    "filename = os.path.join(root_logs,'baseline_model.h5')\n",
    "baseline.save(filename)"
   ]
  },
  {
   "cell_type": "code",
   "execution_count": 9,
   "metadata": {},
   "outputs": [
    {
     "name": "stdout",
     "output_type": "stream",
     "text": [
      "Model: \"sequential\"\n",
      "_________________________________________________________________\n",
      "Layer (type)                 Output Shape              Param #   \n",
      "=================================================================\n",
      "vgg_block (VGG_block)        (None, 16, 16, 16)        2768      \n",
      "_________________________________________________________________\n",
      "vgg_block_1 (VGG_block)      (None, 8, 8, 32)          13888     \n",
      "_________________________________________________________________\n",
      "vgg_block_2 (VGG_block)      (None, 4, 4, 64)          55424     \n",
      "_________________________________________________________________\n",
      "flatten (Flatten)            (None, 1024)              0         \n",
      "_________________________________________________________________\n",
      "dropout (Dropout)            (None, 1024)              0         \n",
      "_________________________________________________________________\n",
      "dense (Dense)                (None, 128)               131200    \n",
      "_________________________________________________________________\n",
      "dropout_1 (Dropout)          (None, 128)               0         \n",
      "_________________________________________________________________\n",
      "dense_1 (Dense)              (None, 10)                1290      \n",
      "=================================================================\n",
      "Total params: 204,570\n",
      "Trainable params: 204,570\n",
      "Non-trainable params: 0\n",
      "_________________________________________________________________\n",
      "391/391 [==============================] - 1s 2ms/step - loss: 1.0210 - accuracy: 0.6482\n"
     ]
    },
    {
     "data": {
      "text/plain": [
       "[1.02101731300354, 0.6482399702072144]"
      ]
     },
     "execution_count": 9,
     "metadata": {},
     "output_type": "execute_result"
    }
   ],
   "source": [
    "new_model = tf.keras.models.load_model(filename, custom_objects={\"VGG_block\": VGG_block})\n",
    "new_model.summary()\n",
    "new_model.evaluate(x_val, y_val)"
   ]
  },
  {
   "cell_type": "markdown",
   "metadata": {},
   "source": [
    "# Custom Model"
   ]
  },
  {
   "cell_type": "markdown",
   "metadata": {},
   "source": [
    "Alternatively we can define a new class of VGG models by subclassing from the tf.keras.Model class."
   ]
  },
  {
   "cell_type": "code",
   "execution_count": 10,
   "metadata": {},
   "outputs": [],
   "source": [
    "class VGG_model(tf.keras.Model):\n",
    "    def __init__(self, filters=[16,32,64], **kwargs):\n",
    "        super().__init__(**kwargs)\n",
    "        self.vgg_blocks = [VGG_block(n_filters) for n_filters in filters]\n",
    "        self.flatten    = Flatten()\n",
    "        self.dense1     = Dense(128, activation='relu')\n",
    "        self.dense2     = Dense(10,  activation='softmax')\n",
    "        self.dropout1   = Dropout(0.5)\n",
    "        self.dropout2   = Dropout(0.5)\n",
    "        \n",
    "        \n",
    "    def call(self, x):\n",
    "        for vgg_block in self.vgg_blocks:\n",
    "            x = vgg_block(x)\n",
    "        x = self.flatten(x)\n",
    "        x = self.dropout1(x)\n",
    "        x = self.dense1(x)\n",
    "        x = self.dropout2(x)\n",
    "        x = self.dense2(x)\n",
    "        return x"
   ]
  },
  {
   "cell_type": "markdown",
   "metadata": {},
   "source": [
    "## Train instances from the custom Model"
   ]
  },
  {
   "cell_type": "code",
   "execution_count": 11,
   "metadata": {},
   "outputs": [],
   "source": [
    "def exponential_decay(epoch):\n",
    "    return 1e-3 * 0.1**(epoch/10)\n",
    "\n",
    "def train_evaluate(model, name):\n",
    "    model.compile(loss='sparse_categorical_crossentropy',\n",
    "                  optimizer=\"RMSProp\",\n",
    "                  metrics=[\"accuracy\"])\n",
    "    \n",
    "    log_dir = os.path.join(root_logs, name)\n",
    "    \n",
    "    cb_tensorboard = tf.keras.callbacks.TensorBoard(log_dir=log_dir)\n",
    "    cb_lr_sched    = tf.keras.callbacks.LearningRateScheduler(exponential_decay)\n",
    "    cb_early_stop  = tf.keras.callbacks.EarlyStopping(monitor='val_loss', patience=3,\n",
    "                                                      restore_best_weights=True)\n",
    "    cb_checkpoint  = tf.keras.callbacks.ModelCheckpoint(os.path.join(log_dir, \"vgg.ckpt\"),\n",
    "                                                        monitor='val_loss', save_best_only=True)\n",
    "    \n",
    "    \n",
    "    history = model.fit(x=x_train, y=y_train, batch_size=32, epochs=20, verbose=0,\n",
    "                        validation_data=(x_val, y_val),\n",
    "                        callbacks=[cb_checkpoint, cb_early_stop, cb_lr_sched, cb_tensorboard])\n",
    "    \n",
    "    _, acc  = model.evaluate(x_val, y_val, verbose=0)\n",
    "    return history, acc"
   ]
  },
  {
   "cell_type": "code",
   "execution_count": 12,
   "metadata": {},
   "outputs": [
    {
     "name": "stdout",
     "output_type": "stream",
     "text": [
      "16_20200614_233828\n",
      "Best validation accuracy: 0.6464\n",
      "16-32_20200614_233956\n",
      "Best validation accuracy: 0.6892\n"
     ]
    }
   ],
   "source": [
    "filters_ls = [[16,32,64]]\n",
    "\n",
    "for filters in filters_ls:\n",
    "    name = '-'.join(['%d'%f for f in filters])\n",
    "    name = name + datetime.now().strftime('_%Y%m%d_%H%M%S')\n",
    "    print(name)\n",
    "    \n",
    "    model = VGG_model(filters=filters)\n",
    "    _, val_acc = train_evaluate(model, name)\n",
    "    print(\"Best validation accuracy: %.4f\"%val_acc)"
   ]
  },
  {
   "cell_type": "markdown",
   "metadata": {},
   "source": [
    "# Save and Load custom models\n",
    "### Save & Load weights\n",
    "This is the way to go if we have access to the code implementing the custom model"
   ]
  },
  {
   "cell_type": "code",
   "execution_count": 13,
   "metadata": {},
   "outputs": [],
   "source": [
    "ckpt_path = os.path.join(root_logs,'custom_model_ckpt')\n",
    "model.save_weights(ckpt_path)"
   ]
  },
  {
   "cell_type": "code",
   "execution_count": 14,
   "metadata": {},
   "outputs": [
    {
     "name": "stdout",
     "output_type": "stream",
     "text": [
      "391/391 [==============================] - 1s 2ms/step - loss: 0.8858 - accuracy: 0.6892\n",
      "Model: \"vgg_model_2\"\n",
      "_________________________________________________________________\n",
      "Layer (type)                 Output Shape              Param #   \n",
      "=================================================================\n",
      "vgg_block_6 (VGG_block)      multiple                  2768      \n",
      "_________________________________________________________________\n",
      "vgg_block_7 (VGG_block)      multiple                  13888     \n",
      "_________________________________________________________________\n",
      "flatten_3 (Flatten)          multiple                  0         \n",
      "_________________________________________________________________\n",
      "dense_6 (Dense)              multiple                  262272    \n",
      "_________________________________________________________________\n",
      "dense_7 (Dense)              multiple                  1290      \n",
      "_________________________________________________________________\n",
      "dropout_6 (Dropout)          multiple                  0         \n",
      "_________________________________________________________________\n",
      "dropout_7 (Dropout)          multiple                  0         \n",
      "=================================================================\n",
      "Total params: 280,218\n",
      "Trainable params: 280,218\n",
      "Non-trainable params: 0\n",
      "_________________________________________________________________\n"
     ]
    }
   ],
   "source": [
    "loaded_model = VGG_model([16,32])\n",
    "loaded_model.compile(loss='sparse_categorical_crossentropy', optimizer=\"RMSProp\", metrics=[\"accuracy\"])\n",
    "loaded_model.load_weights(ckpt_path)\n",
    "\n",
    "loaded_model.evaluate(x_val, y_val)\n",
    "loaded_model.summary()  # This has to go AFTER calling the model the first time!"
   ]
  },
  {
   "cell_type": "markdown",
   "metadata": {},
   "source": [
    "### Save and Load the entire model"
   ]
  },
  {
   "cell_type": "code",
   "execution_count": 15,
   "metadata": {},
   "outputs": [
    {
     "name": "stdout",
     "output_type": "stream",
     "text": [
      "WARNING:tensorflow:From /usr/local/software/dl_course2020/envs/DL/lib/python3.8/site-packages/tensorflow/python/ops/resource_variable_ops.py:1813: calling BaseResourceVariable.__init__ (from tensorflow.python.ops.resource_variable_ops) with constraint is deprecated and will be removed in a future version.\n",
      "Instructions for updating:\n",
      "If using Keras pass *_constraint arguments to layers.\n",
      "INFO:tensorflow:Assets written to: logs/subclassing/custom_model/assets\n"
     ]
    }
   ],
   "source": [
    "SavedModel_path = os.path.join(root_logs,'custom_model')\n",
    "model.save(SavedModel_path)"
   ]
  },
  {
   "cell_type": "code",
   "execution_count": 16,
   "metadata": {},
   "outputs": [
    {
     "name": "stdout",
     "output_type": "stream",
     "text": [
      "assets\tsaved_model.pb\tvariables\r\n"
     ]
    }
   ],
   "source": [
    "! ls {SavedModel_path}"
   ]
  },
  {
   "cell_type": "code",
   "execution_count": 17,
   "metadata": {},
   "outputs": [
    {
     "name": "stdout",
     "output_type": "stream",
     "text": [
      "Model: \"vgg_model_1\"\n",
      "_________________________________________________________________\n",
      "Layer (type)                 Output Shape              Param #   \n",
      "=================================================================\n",
      "vgg_block_4 (VGG_block)      multiple                  2768      \n",
      "_________________________________________________________________\n",
      "vgg_block_5 (VGG_block)      multiple                  13888     \n",
      "_________________________________________________________________\n",
      "flatten_2 (Flatten)          multiple                  0         \n",
      "_________________________________________________________________\n",
      "dense_4 (Dense)              multiple                  262272    \n",
      "_________________________________________________________________\n",
      "dense_5 (Dense)              multiple                  1290      \n",
      "_________________________________________________________________\n",
      "dropout_4 (Dropout)          multiple                  0         \n",
      "_________________________________________________________________\n",
      "dropout_5 (Dropout)          multiple                  0         \n",
      "=================================================================\n",
      "Total params: 280,218\n",
      "Trainable params: 280,218\n",
      "Non-trainable params: 0\n",
      "_________________________________________________________________\n",
      "391/391 [==============================] - 1s 2ms/step - loss: 0.8858 - accuracy: 0.6892\n"
     ]
    },
    {
     "data": {
      "text/plain": [
       "[0.8857541680335999, 0.6891999840736389]"
      ]
     },
     "execution_count": 17,
     "metadata": {},
     "output_type": "execute_result"
    }
   ],
   "source": [
    "new_model = tf.keras.models.load_model(SavedModel_path)\n",
    "\n",
    "new_model.summary()\n",
    "new_model.evaluate(x_val, y_val)"
   ]
  },
  {
   "cell_type": "code",
   "execution_count": null,
   "metadata": {},
   "outputs": [],
   "source": []
  }
 ],
 "metadata": {
  "kernelspec": {
   "display_name": "Python3 DL",
   "language": "python",
   "name": "dl-env"
  },
  "language_info": {
   "codemirror_mode": {
    "name": "ipython",
    "version": 3
   },
   "file_extension": ".py",
   "mimetype": "text/x-python",
   "name": "python",
   "nbconvert_exporter": "python",
   "pygments_lexer": "ipython3",
   "version": "3.8.2"
  }
 },
 "nbformat": 4,
 "nbformat_minor": 4
}
